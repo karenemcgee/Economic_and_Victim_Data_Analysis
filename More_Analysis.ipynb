{
 "cells": [
  {
   "cell_type": "code",
   "execution_count": null,
   "metadata": {
    "colab": {},
    "colab_type": "code",
    "id": "MIrEB9AQhxOM"
   },
   "outputs": [],
   "source": [
    "#Karen\n",
    "\n",
    "#Description:\n",
    "#   Pulling in data from all sources.  These sources include:\n",
    "#\n",
    "#   FBI Crime Data API - https://crime-data-explorer.fr.cloud.gov/api\n",
    "#   FBI Crime Data API:  lookups-controller : Endpoints pertaining to CDE Related Lookup Value data (LIST OF STATES & AGENCIES)\n",
    "#   FBI Crime Data API:  victim-data-controller : Endpoints pertaining to NIBRS Victim Demographic data (NATIONAL & STATE - HOMICIDE ONLY)\n",
    "#   FBI Crime Data API:  offense-data-controller : Endpoints pertaining to NIBRS Offender Demographic data (NATIONAL & STATE - HOMICIDE ONLY)\n",
    "#   CENSUS DATA CSV:  Used https://factfinder.census.gov to build a table of the data.  Exported that data from the website into a csv file (2017 YEAR ONLY)  \n",
    "#   MURDER RATES:  By State:  https://deathpenaltyinfo.org/facts-and-research/murder-rates/murder-rates-by-state\n",
    "# \n",
    "#\n",
    "#Modification History:\n",
    "#   DD-MMM-YYY  Author          Description\n",
    "#   10-07-2019  Stacey Smith    INITIAL CREATION\n",
    "#   12-07-2019  Andrea Morgan   API loop build\n",
    "#   17-07-2019  Stacey Smith    Add Agency and Economic/Census data\n",
    "#   18-07-2019  Stacey/Andrea/Karen  Consolidate data and plots\n",
    "#   19-07-2019  Andrea          Tweaking plots and finalizing images for presentation\n",
    "#   20-07-2019  Stacey          Final changes and test to make sure everything runs"
   ]
  },
  {
   "cell_type": "code",
   "execution_count": null,
   "metadata": {
    "colab": {},
    "colab_type": "code",
    "id": "BcvC0kYihxOT"
   },
   "outputs": [],
   "source": [
    "# Dependencies and Setup\n",
    "import matplotlib.pyplot as plt\n",
    "import pandas as pd\n",
    "import numpy as np\n",
    "import requests\n",
    "import json\n",
    "import csv\n",
    "import scipy.stats as stats\n",
    "import gmaps\n",
    "from scipy.stats import ttest_ind\n",
    "from math import sqrt\n",
    "from numpy import mean\n",
    "from scipy.stats import sem\n",
    "from scipy.stats import t\n",
    "\n",
    "from pprint import pprint\n",
    "\n",
    "# Import DATA.GOV API key \n",
    "from api_keys import ses_dg_key, am_gkey, am_dg_key, km_dg_key"
   ]
  },
  {
   "cell_type": "code",
   "execution_count": null,
   "metadata": {
    "colab": {},
    "colab_type": "code",
    "id": "tiyp3WLDhxOX"
   },
   "outputs": [],
   "source": [
    "#IMPORT CENSUS DATA\n",
    "ses_census_path = \"output_data/census_data.csv\"\n",
    "ses_census_df = pd.read_csv(ses_census_path, encoding=\"ISO-8859-1\")\n",
    "\n",
    "\n",
    "\n",
    "#IMPORT AGENCY DATA\n",
    "agency_path = \"output_data/final_agency_data.csv\"\n",
    "agency_df = pd.read_csv(agency_path, encoding=\"ISO-8859-1\")\n",
    "agency_df = agency_df.rename(columns={'State':'state_abbr'})\n",
    "#agency_df_sorted = agency_df.sort_values(by=['Pct Active'], ascending=False)\n",
    "\n",
    "#IMPORT MURDER RATE & DEATH PENALTY BY STATE (DEATH PENALTY.ORG) \n",
    "ses_mr_path = \"output_data/Murder_Rates_and_Death_Penalty_by_State_2017.csv\"\n",
    "ses_mr_df = pd.read_csv(ses_mr_path, encoding=\"ISO-8859-1\")\n",
    "ses_mrcensus = pd.merge(ses_census_df, ses_mr_df, on='state_name')\n",
    "\n",
    "#IMPORT VICTIM DATA BY STATE\n",
    "state_v_sex_path = \"output_data/state_v_sex_data.csv\"\n",
    "state_v_sex_df = pd.read_csv(state_v_sex_path, encoding=\"ISO-8859-1\")\n",
    "ses_state_v_sex_2017 = state_v_sex_df.loc[state_v_sex_df['Year']==2017, :]\n",
    "\n",
    "\n",
    "ses_state_v_sex_2017 = ses_state_v_sex_2017.rename(columns={'State': 'state_abbr'})\n",
    "\n",
    "vcensus = pd.merge(ses_state_v_sex_2017, ses_census_df, on='state_abbr')\n",
    "vcensus = pd.merge(agency_df, vcensus, on='state_abbr')\n"
   ]
  },
  {
   "cell_type": "markdown",
   "metadata": {
    "colab_type": "text",
    "id": "jq2sAcNvhxOb"
   },
   "source": [
    "NATIONAL FBI CRIME DATA  - EXPLORATION AND CLEANUP - VICTIM DATA ONLY (NO OFFENDERS)\n"
   ]
  },
  {
   "cell_type": "code",
   "execution_count": null,
   "metadata": {
    "colab": {},
    "colab_type": "code",
    "id": "AWgQsFsAhxOd"
   },
   "outputs": [],
   "source": [
    "#API Call to National-level victim-data-controller for HOMICIDE ONLY  \n",
    "#FORMAT:  https://api.usa.gov/crime/fbi/sapi/api/data/nibrs/{offense}/victim/national/{variable}?api_key=\n",
    "\n",
    "n_age_query_url = \"https://api.usa.gov/crime/fbi/sapi/api/data/nibrs/homicide/victim/national/age?api_key=\" + ses_dg_key\n",
    "n_ethnicity_query_url = \"https://api.usa.gov/crime/fbi/sapi/api/data/nibrs/homicide/victim/national/ethnicity?api_key=\" + ses_dg_key\n",
    "n_sex_query_url = \"https://api.usa.gov/crime/fbi/sapi/api/data/nibrs/homicide/victim/national/sex?api_key=\" + ses_dg_key\n",
    "n_race_query_url = \"https://api.usa.gov/crime/fbi/sapi/api/data/nibrs/homicide/victim/national/race?api_key=\" + ses_dg_key\n",
    "n_relationship_query_url = \"https://api.usa.gov/crime/fbi/sapi/api/data/nibrs/homicide/victim/national/relationship?api_key=\" + ses_dg_key\n",
    "\n",
    "#Create JSON Files for each Homicide Variable\n",
    "n_age_response = requests.get(n_age_query_url).json()\n",
    "n_ethnicity_response = requests.get(n_ethnicity_query_url).json()\n",
    "n_sex_response = requests.get(n_sex_query_url).json()\n",
    "n_race_response = requests.get(n_race_query_url).json()\n",
    "n_relationship_response = requests.get(n_relationship_query_url).json()\n"
   ]
  },
  {
   "cell_type": "code",
   "execution_count": null,
   "metadata": {
    "colab": {},
    "colab_type": "code",
    "id": "DZcON7X-hxOk"
   },
   "outputs": [],
   "source": [
    "#NATIONAL VICTIMS OF HOMICIDE BY AGE RANGE\n",
    "\n",
    "n_age_data = pd.DataFrame(n_age_response['results'])\n",
    "n_age_data = n_age_data.sort_values(by='data_year', ascending=False)\n",
    "\n",
    "n_age_data.to_csv(\"output_data/natl_age_data.csv\")\n",
    "\n",
    "n_age_data.head()"
   ]
  },
  {
   "cell_type": "code",
   "execution_count": null,
   "metadata": {
    "colab": {},
    "colab_type": "code",
    "id": "GyfQCvcfhxOr"
   },
   "outputs": [],
   "source": [
    "#NATIONAL VICTIMS OF HOMICIDE  BY ETHNICITY\n",
    "\n",
    "n_eth_data = pd.DataFrame(n_ethnicity_response['results'])\n",
    "n_eth_data.sort_values(by='data_year', ascending=False)\n",
    "\n",
    "n_eth_data.to_csv(\"output_data/natl_eth_data.csv\")\n",
    "\n",
    "n_eth_data.head()"
   ]
  },
  {
   "cell_type": "code",
   "execution_count": null,
   "metadata": {
    "colab": {},
    "colab_type": "code",
    "id": "DoQowht4hxOz"
   },
   "outputs": [],
   "source": [
    "#NATIONAL VICTIMS OF HOMICIDE  BY SEX\n",
    "\n",
    "n_sex_data = pd.DataFrame(n_sex_response['results'])\n",
    "n_sex_data.sort_values(by='data_year', ascending=False)\n",
    "\n",
    "n_sex_data.to_csv(\"output_data/natl_sex_data.csv\")\n",
    "\n",
    "n_sex_data.head()"
   ]
  },
  {
   "cell_type": "code",
   "execution_count": null,
   "metadata": {
    "colab": {},
    "colab_type": "code",
    "id": "JlAFzPXQhxO5"
   },
   "outputs": [],
   "source": [
    "#NATIONAL VICTIMS OF HOMICIDE  BY RACE\n",
    "\n",
    "n_race_data = pd.DataFrame(n_race_response['results'])\n",
    "n_race_data.sort_values(by='data_year', ascending=False)\n",
    "\n",
    "n_race_data.to_csv(\"output_data/natl_race_data.csv\")\n",
    "\n",
    "n_race_data.head()"
   ]
  },
  {
   "cell_type": "code",
   "execution_count": null,
   "metadata": {
    "colab": {},
    "colab_type": "code",
    "id": "QruHt6w5hxO8"
   },
   "outputs": [],
   "source": [
    "#NATIONAL VICTIMS OF HOMICIDE BY RELATIONSHIP CATEGORY (RELATIONSHIP OF VICTIM TO OFFENDER)\n",
    "\n",
    "n_rel_data = pd.DataFrame(n_relationship_response['results'])\n",
    "n_rel_data.sort_values(by='data_year', ascending=False)\n",
    "\n",
    "n_rel_data.to_csv(\"output_data/natl_rel_data.csv\")\n",
    "\n",
    "n_rel_data.head()"
   ]
  },
  {
   "cell_type": "markdown",
   "metadata": {
    "colab_type": "text",
    "id": "lQ9kag4ShxPA"
   },
   "source": [
    "STATE FBI CRIME DATA - EXPLORATION AND CLEANUP"
   ]
  },
  {
   "cell_type": "code",
   "execution_count": null,
   "metadata": {
    "colab": {},
    "colab_type": "code",
    "id": "Qjf1hxzdhxPC"
   },
   "outputs": [],
   "source": [
    "#There are 3 pages of data for states. \n",
    "#This pulls the data for each page and combines it all into one usable dataframe: state_data\n",
    "\n",
    "state_qry = \"https://api.usa.gov/crime/fbi/sapi/api/states?api_key=\" + ses_dg_key \n",
    "state_results_1 = requests.get(state_qry, params={'page':0}).json()\n",
    "state_results_2 = requests.get(state_qry, params={'page':1}).json()\n",
    "state_results_3 = requests.get(state_qry, params={'page':2}).json()\n",
    "\n",
    "sr1_df = pd.DataFrame(state_results_1['results'])\n",
    "sr2_df = pd.DataFrame(state_results_2['results'])\n",
    "sr3_df = pd.DataFrame(state_results_3['results'])\n",
    "\n",
    "\n",
    "state_data = pd.concat([sr1_df, sr2_df, sr3_df])\n",
    "state_data.head()"
   ]
  },
  {
   "cell_type": "markdown",
   "metadata": {
    "colab_type": "text",
    "id": "OBqEhfsqhxPG"
   },
   "source": [
    "VICTIM DATA"
   ]
  },
  {
   "cell_type": "code",
   "execution_count": null,
   "metadata": {
    "colab": {},
    "colab_type": "code",
    "id": "yADhpZMVhxPH"
   },
   "outputs": [],
   "source": [
    "#NUMBER OF VICTIMS OF HOMICIDE PER STATE BY AGE RANGE\n",
    "\n",
    "#This is the same series created before\n",
    "states = (state_data.iloc[:,1]).astype(str)\n",
    "\n",
    "#This is the same series created before\n",
    "states = (state_data.iloc[:,1]).astype(str)\n",
    "\n",
    "#Opened an empty list to initialize a dataframe\n",
    "empty_list = []\n",
    "\n",
    "v_ageDF = pd.DataFrame(empty_list)\n",
    "\n",
    "#Creating columns on list based on the returned data for one state\n",
    "v_ageDF[\"State\"] = \"\"\n",
    "v_ageDF[\"Year\"] = \"\"\n",
    "v_ageDF[\"Unknown\"] = \"\"\n",
    "v_ageDF[\"0-9\"] = \"\"\n",
    "v_ageDF[\"10-19\"] = \"\"\n",
    "v_ageDF[\"20-29\"] = \"\"\n",
    "v_ageDF[\"30-39\"] = \"\"\n",
    "v_ageDF[\"40-49\"] = \"\"\n",
    "v_ageDF[\"50-59\"] = \"\"\n",
    "v_ageDF[\"60-69\"] = \"\"\n",
    "v_ageDF[\"70-79\"] = \"\"\n",
    "v_ageDF[\"80-89\"] = \"\"\n",
    "v_ageDF[\"90-99\"] = \"\"\n",
    "\n",
    "\n",
    "#This is the loop to fill the dataframe.  This should work for any of us pulling the data from the FBI\n",
    "#state APIs, with just tweaking the url, keyword and return information.\n",
    "\n",
    "#The loop stores the return results for an individual state.  Then it loops through the return results to \n",
    "#populate each row in the empty dataframe created before.  Once it has looped through all of the return info,\n",
    "#it goes back to the beginning and does the same for the next state in states.\n",
    "\n",
    "#I found the \"dataframe.append\" bit on a website and it turned out to be the key to filling in the dataframe\n",
    "#because it ignores index numbers and just appends to the next empty row available.  \n",
    "\n",
    "for i in states:\n",
    "    \n",
    "    state = i \n",
    "    \n",
    "    v_age_query_url = \"https://api.usa.gov/crime/fbi/sapi/api/data/nibrs/homicide/victim/states/\"+ state +\"/age?api_key=\" + ses_dg_key\n",
    "    v_age_response_state = requests.get(v_age_query_url).json()\n",
    "    \n",
    "    for i in v_age_response_state['results']:\n",
    "        \n",
    "        v_ageDF = v_ageDF.append({'State': state, \n",
    "                          'Year': i['data_year'], \n",
    "                          'Unknown': i['unknown'],\n",
    "                          '0-9' : i['range_0_9'],\n",
    "                          '10-19' : i['range_10_19'],\n",
    "                          '20-29' : i['range_20_29'],\n",
    "                          '30-39' : i['range_30_39'],\n",
    "                          '40-49' : i['range_40_49'],\n",
    "                          '50-59' : i['range_50_59'],\n",
    "                          '60-69' : i['range_60_69'],\n",
    "                          '70-79' : i['range_70_79'],\n",
    "                          '80-89' : i['range_80_89'],\n",
    "                          '90-99' : i['range_90_99']},\n",
    "                          ignore_index = True)\n",
    "    \n",
    "\n",
    "v_ageDF.to_csv(\"output_data/state_v_age_data.csv\")\n",
    "\n",
    "v_ageDF.head()  "
   ]
  },
  {
   "cell_type": "code",
   "execution_count": null,
   "metadata": {
    "colab": {},
    "colab_type": "code",
    "id": "m69QXkrrhxPM"
   },
   "outputs": [],
   "source": [
    "#NUMBER OF VICTIMS OF HOMICIDE PER STATE BY SEX\n",
    "\n",
    "states = (state_data.iloc[:,1]).astype(str)\n",
    "\n",
    "#Opened an empty list to initialize a dataframe\n",
    "empty_list = []\n",
    "\n",
    "sexDF = pd.DataFrame(empty_list)\n",
    "\n",
    "#Creating columns on list based on the returned data for one state\n",
    "sexDF[\"State\"] = \"\"\n",
    "sexDF[\"Year\"] = \"\"\n",
    "sexDF[\"Female Count\"] = \"\"\n",
    "sexDF[\"Male Count\"] = \"\"\n",
    "sexDF[\"Unknown\"] = \"\"\n",
    "\n",
    "\n",
    "#This is the loop to fill the dataframe.  This should work for any of us pulling the data from the FBI\n",
    "#state APIs, with just tweaking the url, keyword and return information.\n",
    "\n",
    "#The loop stores the return results for an individual state.  Then it loops through the return results to \n",
    "#populate each row in the empty dataframe created before.  Once it has looped through all of the return info,\n",
    "#it goes back to the beginning and does the same for the next state in states.\n",
    "\n",
    "#I found the \"dataframe.append\" bit on a website and it turned out to be the key to filling in the dataframe\n",
    "#because it ignores index numbers and just appends to the next empty row available.  \n",
    "\n",
    "for i in states:\n",
    "    \n",
    "    state = i \n",
    "    \n",
    "    sex_query_url = \"https://api.usa.gov/crime/fbi/sapi/api/data/nibrs/homicide/victim/states/\"+ state +\"/sex?api_key=\" + ses_dg_key\n",
    "    sex_response_state = requests.get(sex_query_url).json()\n",
    "    \n",
    "    for i in sex_response_state['results']:\n",
    "        \n",
    "        sexDF = sexDF.append({'State': state, \n",
    "                          'Year': i['data_year'], \n",
    "                          'Female Count': i['female_count'],\n",
    "                          'Male Count' : i['male_count'],\n",
    "                          'Unkown' : i['unknown']},\n",
    "                          ignore_index = True)\n",
    "    \n",
    "    \n",
    "sexDF.to_csv(\"output_data/state_v_sex_data.csv\") \n",
    "\n",
    "\n",
    "sexDF.head()  "
   ]
  },
  {
   "cell_type": "code",
   "execution_count": null,
   "metadata": {
    "colab": {},
    "colab_type": "code",
    "id": "mZJenbUshxPQ"
   },
   "outputs": [],
   "source": [
    "#This is the same series created before\n",
    "states = (state_data.iloc[:,1]).astype(str)\n",
    "\n",
    "#Open an empty list to initialize a dataframe\n",
    "empty_list = []\n",
    "\n",
    "relDF_base = pd.DataFrame(empty_list)\n",
    "\n",
    "#Creating columns on list based on the returned data for one state\n",
    "relDF_base[\"State\"] = \"\"\n",
    "relDF_base[\"Year\"] = \"\"\n",
    "relDF_base[\"Acquaintance\"] = \"\"\n",
    "relDF_base[\"Babysittee\"] = \"\"\n",
    "relDF_base[\"Boyfriend or Girlfriend\"] = \"\"\n",
    "relDF_base[\"Child of Boyfriend or Girlfriend\"] = \"\"\n",
    "relDF_base[\"Child\"] = \"\"\n",
    "relDF_base[\"Common Law Spouse\"] = \"\"\n",
    "relDF_base[\"Employee\"] = \"\"\n",
    "relDF_base[\"Employer\"] = \"\"\n",
    "relDF_base[\"Friend\"] = \"\"\n",
    "relDF_base[\"Grandchild\"] = \"\"\n",
    "relDF_base[\"Grandparent\"] = \"\"\n",
    "relDF_base[\"Homosexual Relationship\"] = \"\"\n",
    "relDF_base[\"In-Law\"] = \"\"\n",
    "relDF_base[\"Neighbor\"] = \"\"\n",
    "relDF_base[\"Other Family Member\"] = \"\"\n",
    "relDF_base[\"Otherwise Known\"] = \"\"\n",
    "relDF_base[\"Parent\"] = \"\"\n",
    "relDF_base[\"Unknown\"] = \"\"\n",
    "relDF_base[\"Sibling\"] = \"\"\n",
    "relDF_base[\"Stepchild\"] = \"\"\n",
    "relDF_base[\"Spouse\"] = \"\"\n",
    "relDF_base[\"Stepparent\"] = \"\"\n",
    "relDF_base[\"Stepsibling\"] = \"\"\n",
    "relDF_base[\"Stranger\"] = \"\"\n",
    "relDF_base[\"Offender\"] = \"\"\n",
    "relDF_base[\"Ex-Spouse\"] = \"\"\n",
    "\n",
    "#Loop through data to create the dataframe\n",
    "\n",
    "for i in states:\n",
    "    \n",
    "    state = i \n",
    "    \n",
    "    rel_query_url = \"https://api.usa.gov/crime/fbi/sapi/api/data/nibrs/homicide/victim/states/\"+ state +\"/relationship?api_key=\" + km_dg_key\n",
    "    rel_response_state = requests.get(rel_query_url).json()\n",
    "    \n",
    "    for i in rel_response_state['results']:\n",
    "        \n",
    "        relDF_base = relDF_base.append({'State': state, \n",
    "                          'Year': i['data_year'], \n",
    "                          'Acquaintance': i['acquaintance'],\n",
    "                          'Babysittee' : i['babysittee'],\n",
    "                          'Boyfriend or Girlfriend' : i['boyfriend_girlfriend'],\n",
    "                          'Child of Boyfriend or Girlfriend' : i['child_boyfriend_girlfriend'],\n",
    "                          'Child' : i['child'],\n",
    "                          'Common Law Spouse' : i['common_law_spouse'],\n",
    "                          'Employee' : i['employee'],\n",
    "                          'Employer' : i['employer'],\n",
    "                          'Friend' : i['friend'],\n",
    "                          'Grandchild' : i['grandchild'],\n",
    "                          'Grandparent' : i['grandparent'],\n",
    "                          'Homosexual Relationship' : i['homosexual_relationship'],\n",
    "                          'In-Law' : i['in_law'],\n",
    "                          'Neighbor' : i['neighbor'],\n",
    "                          'Other Family Member' : i['other_family_member'],\n",
    "                          'Otherwise Known' : i['otherwise_known'],\n",
    "                          'Parent' : i['parent'],\n",
    "                          'Unknown' : i['relationship_unknown'],\n",
    "                          'Sibling' : i['sibling'],\n",
    "                          'Stepchild' : i['stepchild'],\n",
    "                          'Spouse' : i['spouse'],\n",
    "                          'Stepparent' : i['stepparent'],\n",
    "                          'Stepsibling' : i['stepsibling'],\n",
    "                          'Stranger' : i['stranger'],\n",
    "                          'Offender' : i['offender'],\n",
    "                          'Ex-Spouse' : i['ex_spouse'],\n",
    "                             },\n",
    "                          ignore_index = True)\n",
    "\n",
    "relDF_base.head()"
   ]
  },
  {
   "cell_type": "markdown",
   "metadata": {
    "colab_type": "text",
    "id": "8JUO17rBhxPU"
   },
   "source": [
    "OFFENDER DATA"
   ]
  },
  {
   "cell_type": "code",
   "execution_count": null,
   "metadata": {
    "colab": {},
    "colab_type": "code",
    "id": "Qe5aXZMYhxPV"
   },
   "outputs": [],
   "source": [
    "#NUMBER HOMICIDE OFFENDERS PER STATE BY SEX\n",
    "\n",
    "#Opened an empty list to initialize a dataframe\n",
    "empty_list = []\n",
    "\n",
    "o_ageDF = pd.DataFrame(empty_list)\n",
    "\n",
    "#Creating columns on list based on the returned data for one state\n",
    "o_ageDF[\"State\"] = \"\"\n",
    "o_ageDF[\"Year\"] = \"\"\n",
    "o_ageDF[\"Unknown\"] = \"\"\n",
    "o_ageDF[\"0-9\"] = \"\"\n",
    "o_ageDF[\"10-19\"] = \"\"\n",
    "o_ageDF[\"20-29\"] = \"\"\n",
    "o_ageDF[\"30-39\"] = \"\"\n",
    "o_ageDF[\"40-49\"] = \"\"\n",
    "o_ageDF[\"50-59\"] = \"\"\n",
    "o_ageDF[\"60-69\"] = \"\"\n",
    "o_ageDF[\"70-79\"] = \"\"\n",
    "o_ageDF[\"80-89\"] = \"\"\n",
    "o_ageDF[\"90-99\"] = \"\"\n",
    "\n",
    "\n",
    "#This is the loop to fill the dataframe.  This should work for any of us pulling the data from the FBI\n",
    "#state APIs, with just tweaking the url, keyword and return information.\n",
    "\n",
    "#The loop stores the return results for an individual state.  Then it loops through the return results to \n",
    "#populate each row in the empty dataframe created before.  Once it has looped through all of the return info,\n",
    "#it goes back to the beginning and does the same for the next state in states.\n",
    "\n",
    "#I found the \"dataframe.append\" bit on a website and it turned out to be the key to filling in the dataframe\n",
    "#because it ignores index numbers and just appends to the next empty row available.  \n",
    "\n",
    "for i in states:\n",
    "    \n",
    "    state = i \n",
    "    \n",
    "    o_age_query_url = \"https://api.usa.gov/crime/fbi/sapi/api/data/nibrs/homicide/offender/states/\"+ state +\"/age?api_key=\" + ses_dg_key\n",
    "    o_age_response_state = requests.get(o_age_query_url).json()\n",
    "    \n",
    "    for i in o_age_response_state['results']:\n",
    "        \n",
    "        o_ageDF = o_ageDF.append({'State': state, \n",
    "                          'Year': i['data_year'], \n",
    "                          'Unknown': i['unknown'],\n",
    "                          '0-9' : i['range_0_9'],\n",
    "                          '10-19' : i['range_10_19'],\n",
    "                          '20-29' : i['range_20_29'],\n",
    "                          '30-39' : i['range_30_39'],\n",
    "                          '40-49' : i['range_40_49'],\n",
    "                          '50-59' : i['range_50_59'],\n",
    "                          '60-69' : i['range_60_69'],\n",
    "                          '70-79' : i['range_70_79'],\n",
    "                          '80-89' : i['range_80_89'],\n",
    "                          '90-99' : i['range_90_99']},\n",
    "                          ignore_index = True)\n",
    "    \n",
    "o_ageDF.to_csv(\"output_data/state_o_age_data.csv\") \n",
    "\n",
    "o_ageDF.head() "
   ]
  },
  {
   "cell_type": "code",
   "execution_count": null,
   "metadata": {
    "colab": {},
    "colab_type": "code",
    "id": "1KvskS4phxPY"
   },
   "outputs": [],
   "source": [
    "#NUMBER OF HOMICIDE OFFENDERS PER STATE BY SEX\n",
    "\n",
    "#Opened an empty list to initialize a dataframe\n",
    "empty_list = []\n",
    "\n",
    "o_sexDF = pd.DataFrame(empty_list)\n",
    "\n",
    "#Creating columns on list based on the returned data for one state\n",
    "o_sexDF[\"State\"] = \"\"\n",
    "o_sexDF[\"Year\"] = \"\"\n",
    "o_sexDF[\"Female Count\"] = \"\"\n",
    "o_sexDF[\"Male Count\"] = \"\"\n",
    "o_sexDF[\"Unknown\"] = \"\"\n",
    "\n",
    "\n",
    "#This is the loop to fill the dataframe.  This should work for any of us pulling the data from the FBI\n",
    "#state APIs, with just tweaking the url, keyword and return information.\n",
    "\n",
    "#The loop stores the return results for an individual state.  Then it loops through the return results to \n",
    "#populate each row in the empty dataframe created before.  Once it has looped through all of the return info,\n",
    "#it goes back to the beginning and does the same for the next state in states.\n",
    "\n",
    "#I found the \"dataframe.append\" bit on a website and it turned out to be the key to filling in the dataframe\n",
    "#because it ignores index numbers and just appends to the next empty row available.  \n",
    "\n",
    "for i in states:\n",
    "    \n",
    "    state = i \n",
    "    \n",
    "    o_sex_query_url = \"https://api.usa.gov/crime/fbi/sapi/api/data/nibrs/homicide/offender/states/\"+ state +\"/sex?api_key=\" + ses_dg_key\n",
    "    o_sex_response_state = requests.get(o_sex_query_url).json()\n",
    "    \n",
    "    for i in o_sex_response_state['results']:\n",
    "        \n",
    "        o_sexDF = o_sexDF.append({'State': state, \n",
    "                          'Year': i['data_year'], \n",
    "                          'Female Count': i['female_count'],\n",
    "                          'Male Count' : i['male_count'],\n",
    "                          'Unkown' : i['unknown']},\n",
    "                          ignore_index = True)\n",
    "    \n",
    "    \n",
    "o_sexDF.to_csv(\"output_data/state_o_sex_data.csv\") \n",
    "\n",
    "o_sexDF.head()"
   ]
  },
  {
   "cell_type": "markdown",
   "metadata": {
    "colab_type": "text",
    "id": "4TSGTyvQhxPd"
   },
   "source": [
    "AGENCY FBI CRIME DATA - EXPLORATION AND CLEANUP"
   ]
  },
  {
   "cell_type": "code",
   "execution_count": null,
   "metadata": {
    "colab": {},
    "colab_type": "code",
    "id": "w23-yRjxhxPe"
   },
   "outputs": [],
   "source": [
    "#AGENCY DATA BY STATE - RAW DATA\n",
    "#Opened an empty list to initialize a dataframe\n",
    "empty_list = []\n",
    "\n",
    "agencies = pd.DataFrame(empty_list)\n",
    "\n",
    "#Creating columns on list based on the returned data for one state\n",
    "agencies[\"State\"] = \"\"\n",
    "agencies[\"Origin\"] = \"\"\n",
    "agencies[\"Agency Name\"] = \"\"\n",
    "agencies[\"Agency Type Name\"] = \"\"\n",
    "agencies[\"State Abbr\"] = \"\"\n",
    "agencies[\"Division Name\"] = \"\"\n",
    "agencies[\"Region Name\"] = \"\"\n",
    "agencies[\"Region Desc\"] = \"\"\n",
    "agencies[\"County Name\"] = \"\"\n",
    "agencies[\"NIBRS\"] = \"\"\n",
    "agencies[\"Latitude\"] = \"\"          \n",
    "agencies[\"Longitude\"] = \"\"\n",
    "agencies[\"NIBRS Start Date\"] = \"\"\n",
    "\n",
    "#This is the loop to fill the dataframe.  This should work for any of us pulling the data from the FBI\n",
    "#state APIs, with just tweaking the url, keyword and return information.\n",
    "\n",
    "#The loop stores the return results for an individual state.  Then it loops through the return results to \n",
    "#populate each row in the empty dataframe created before.  Once it has looped through all of the return info,\n",
    "#it goes back to the beginning and does the same for the next state in states.\n",
    "\n",
    "#I found the \"dataframe.append\" bit on a website and it turned out to be the key to filling in the dataframe\n",
    "#because it ignores index numbers and just appends to the next empty row available.  \n",
    "\n",
    "for i in states:\n",
    "    \n",
    "    state = i \n",
    "    \n",
    "    agency_query_url = \"https://api.usa.gov/crime/fbi/sapi/api/agencies/byStateAbbr/\"+ state +\"?api_key=\" + ses_dg_key\n",
    "    agency_response_state = requests.get(agency_query_url).json()\n",
    "    \n",
    "    for i in agency_response_state['results']:\n",
    "        \n",
    "        agencies = agencies.append({'State': state, \n",
    "                          'Origin': i['ori'], \n",
    "                          'Agency Name': i['agency_name'],\n",
    "                          'Agency Type Name' : i['agency_type_name'],\n",
    "                          'State Abbr' : i['state_abbr'],\n",
    "                          'Division Name' : i['division_name'],\n",
    "                          'Region Name' : i['region_name'],\n",
    "                          'Region Desc' : i['region_desc'],\n",
    "                          'County Name' : i['county_name'],\n",
    "                          'NIBRS' : i['nibrs'],\n",
    "                          'Latitude' : i['latitude'],\n",
    "                          'Longitude' : i['longitude'],\n",
    "                          'NIBRS Start Date' : i['nibrs_start_date']},\n",
    "                          ignore_index = True)\n",
    "    \n",
    "\n",
    "agencies.to_csv(\"output_data/raw_agencies.csv\") \n",
    "\n",
    "agencies.head()"
   ]
  },
  {
   "cell_type": "code",
   "execution_count": null,
   "metadata": {
    "colab": {},
    "colab_type": "code",
    "id": "vaFrbGYOhxPi",
    "outputId": "a43c9159-9b73-4d04-96cf-7b9cd04b0033"
   },
   "outputs": [],
   "source": [
    "#AGENCY DATA CLEANUP\n",
    "#NEED TO FIND THE NUMBERS OF AGENCIES REPORTING DATA TO THE FBI \n",
    "\n",
    "#Gives me a total count of all agencies, both True and False for NIBRS\n",
    "NIBRS_data = agencies.groupby(['State']).count()\n",
    "\n",
    "#Gives me a series that contains just the counts of True and False NIBRS by State\n",
    "NIBRS_data_s = agencies.groupby(['State', 'NIBRS']).size()\n",
    "\n",
    "#Put the series into a dataframe\n",
    "NIBRS_df = pd.DataFrame(NIBRS_data_s)\n",
    "NIBRS_df.reset_index(level=['State', 'NIBRS'], inplace=True)\n",
    "\n",
    "#Merge the dataframes\n",
    "all_agency = pd.merge(NIBRS_data, NIBRS_df, on=['State'])\n",
    "\n",
    "#Cleanup columns I don't want\n",
    "del all_agency['Origin']\n",
    "del all_agency['Agency Name']\n",
    "del all_agency['Agency Type Name']\n",
    "del all_agency['State Abbr']\n",
    "del all_agency['Division Name']\n",
    "del all_agency['Region Name']\n",
    "del all_agency['Region Desc']\n",
    "del all_agency['County Name']\n",
    "del all_agency['Latitude']\n",
    "del all_agency['Longitude']\n",
    "del all_agency['NIBRS Start Date']\n",
    "\n",
    "#Create final dataframe\n",
    "t_all_agency = all_agency.loc[all_agency['NIBRS_y']==True, :]\n",
    "\n",
    "all_agencies = t_all_agency.rename(columns={\n",
    "    \"NIBRS_x\": \"Total Agencies\",\n",
    "    0: \"Active Agencies\"\n",
    "    \n",
    "})\n",
    "\n",
    "#Get rid of one more column\n",
    "del all_agencies['NIBRS_y']\n",
    "\n",
    "#Add a new column that calculates the percentage of agencies reporting data to the FBI\n",
    "all_agencies['Pct Active'] = (all_agencies['Active Agencies']/all_agencies['Total Agencies'])*100\n",
    "\n",
    "all_agencies.to_csv(\"output_data/final_agency_data.csv\")\n",
    "\n",
    "all_agencies.head()"
   ]
  },
  {
   "cell_type": "markdown",
   "metadata": {
    "colab_type": "text",
    "id": "jx7CH1OuhxPn"
   },
   "source": [
    "CENSUS DATA - EXPLORATION AND CLEANUP"
   ]
  },
  {
   "cell_type": "code",
   "execution_count": null,
   "metadata": {
    "colab": {},
    "colab_type": "code",
    "id": "tMrTW4wChxPo",
    "outputId": "debbec5b-5106-407d-9edf-416fce2fcc05"
   },
   "outputs": [],
   "source": [
    "#Open the Census Economic data CSV file\n",
    "path_econ = \"Resources/ACS_17_5YR_DP03_with_ann.csv\"\n",
    "econ_df = pd.read_csv(path_econ, encoding=\"ISO-8859-1\")\n",
    "\n",
    "\n",
    "#CLEAN AND ORGANIZE THE DATA\n",
    "# For the purposes of this analysis, I only want to use a small portion of the data I downloaded from the census website. \n",
    " \n",
    "# Delete unwanted data \n",
    "del econ_df['Id2']\n",
    "del econ_df['Estimate; EMPLOYMENT STATUS - Civilian labor force']\n",
    "del econ_df['Percent; EMPLOYMENT STATUS - Civilian labor force']\n",
    "del econ_df['Percent; EMPLOYMENT STATUS - Civilian labor force - Unemployment Rate']\n",
    "del econ_df['Estimate; PERCENTAGE OF FAMILIES AND PEOPLE WHOSE INCOME IN THE PAST 12 MONTHS IS BELOW THE POVERTY LEVEL - All people - Under 18 years - Related children of the householder under 18 years'] \n",
    "del econ_df['Percent; PERCENTAGE OF FAMILIES AND PEOPLE WHOSE INCOME IN THE PAST 12 MONTHS IS BELOW THE POVERTY LEVEL - All people - Under 18 years - Related children of the householder under 18 years']\n",
    "del econ_df['Estimate; PERCENTAGE OF FAMILIES AND PEOPLE WHOSE INCOME IN THE PAST 12 MONTHS IS BELOW THE POVERTY LEVEL - All people - Under 18 years - Related children of the householder under 18 years - Related children of the householder 5 to 17 years']\n",
    "del econ_df['Percent; PERCENTAGE OF FAMILIES AND PEOPLE WHOSE INCOME IN THE PAST 12 MONTHS IS BELOW THE POVERTY LEVEL - All people - Under 18 years - Related children of the householder under 18 years - Related children of the householder 5 to 17 years']\n",
    "del econ_df['Estimate; PERCENTAGE OF FAMILIES AND PEOPLE WHOSE INCOME IN THE PAST 12 MONTHS IS BELOW THE POVERTY LEVEL - All people - 18 years and over - 18 to 64 years']\n",
    "del econ_df['Percent; PERCENTAGE OF FAMILIES AND PEOPLE WHOSE INCOME IN THE PAST 12 MONTHS IS BELOW THE POVERTY LEVEL - All people - 18 years and over - 18 to 64 years']\n",
    "del econ_df['Estimate; PERCENTAGE OF FAMILIES AND PEOPLE WHOSE INCOME IN THE PAST 12 MONTHS IS BELOW THE POVERTY LEVEL - All people - 18 years and over - 65 years and over']\n",
    "del econ_df['Percent; PERCENTAGE OF FAMILIES AND PEOPLE WHOSE INCOME IN THE PAST 12 MONTHS IS BELOW THE POVERTY LEVEL - All people - 18 years and over - 65 years and over']\n",
    "del econ_df['Estimate; EMPLOYMENT STATUS - Females 16 years and over - In labor force'],\n",
    "del econ_df['Percent; EMPLOYMENT STATUS - Females 16 years and over - In labor force'],\n",
    "del econ_df['Estimate; EMPLOYMENT STATUS - Females 16 years and over - In labor force - Civilian labor force'],\n",
    "del econ_df['Percent; EMPLOYMENT STATUS - Females 16 years and over - In labor force - Civilian labor force'],\n",
    "del econ_df['Estimate; EMPLOYMENT STATUS - Females 16 years and over - In labor force - Civilian labor force - Employed'],\n",
    "del econ_df['Percent; EMPLOYMENT STATUS - Females 16 years and over - In labor force - Civilian labor force - Employed'],\n",
    "del econ_df['Estimate; COMMUTING TO WORK - Workers 16 years and over'],\n",
    "del econ_df['Percent; COMMUTING TO WORK - Workers 16 years and over'],\n",
    "del econ_df['Estimate; COMMUTING TO WORK - Workers 16 years and over - Car, truck, or van -- drove alone'],\n",
    "del econ_df['Percent; COMMUTING TO WORK - Workers 16 years and over - Car, truck, or van -- drove alone'],\n",
    "del econ_df['Estimate; COMMUTING TO WORK - Workers 16 years and over - Car, truck, or van -- carpooled'],\n",
    "del econ_df['Percent; COMMUTING TO WORK - Workers 16 years and over - Car, truck, or van -- carpooled'],\n",
    "del econ_df['Estimate; COMMUTING TO WORK - Workers 16 years and over - Public transportation (excluding taxicab)'],\n",
    "del econ_df['Percent; COMMUTING TO WORK - Workers 16 years and over - Public transportation (excluding taxicab)'],\n",
    "del econ_df['Estimate; COMMUTING TO WORK - Workers 16 years and over - Walked'],\n",
    "del econ_df['Percent; COMMUTING TO WORK - Workers 16 years and over - Walked'],\n",
    "del econ_df['Estimate; COMMUTING TO WORK - Workers 16 years and over - Other means'],\n",
    "del econ_df['Percent; COMMUTING TO WORK - Workers 16 years and over - Other means'],\n",
    "del econ_df['Estimate; COMMUTING TO WORK - Workers 16 years and over - Worked at home'],\n",
    "del econ_df['Percent; COMMUTING TO WORK - Workers 16 years and over - Worked at home'],\n",
    "del econ_df['Estimate; COMMUTING TO WORK - Mean travel time to work (minutes)'],\n",
    "del econ_df['Estimate; OCCUPATION - Civilian employed population 16 years and over'],\n",
    "del econ_df['Percent; OCCUPATION - Civilian employed population 16 years and over'],\n",
    "del econ_df['Estimate; OCCUPATION - Civilian employed population 16 years and over - Management, business, science, and arts occupations'],\n",
    "del econ_df['Percent; OCCUPATION - Civilian employed population 16 years and over - Management, business, science, and arts occupations'],\n",
    "del econ_df['Estimate; OCCUPATION - Civilian employed population 16 years and over - Service occupations'],\n",
    "del econ_df['Percent; OCCUPATION - Civilian employed population 16 years and over - Service occupations'],\n",
    "del econ_df['Estimate; OCCUPATION - Civilian employed population 16 years and over - Sales and office occupations'],\n",
    "del econ_df['Percent; OCCUPATION - Civilian employed population 16 years and over - Sales and office occupations'],\n",
    "del econ_df['Estimate; OCCUPATION - Civilian employed population 16 years and over - Natural resources, construction, and maintenance occupations'],\n",
    "del econ_df['Percent; OCCUPATION - Civilian employed population 16 years and over - Natural resources, construction, and maintenance occupations'],\n",
    "del econ_df['Estimate; OCCUPATION - Civilian employed population 16 years and over - Production, transportation, and material moving occupations'],\n",
    "del econ_df['Percent; OCCUPATION - Civilian employed population 16 years and over - Production, transportation, and material moving occupations'],\n",
    "del econ_df['Estimate; CLASS OF WORKER - Civilian employed population 16 years and over'],\n",
    "del econ_df['Percent; CLASS OF WORKER - Civilian employed population 16 years and over'],\n",
    "del econ_df['Estimate; CLASS OF WORKER - Civilian employed population 16 years and over - Private wage and salary workers'],\n",
    "del econ_df['Percent; CLASS OF WORKER - Civilian employed population 16 years and over - Private wage and salary workers'],\n",
    "del econ_df['Estimate; CLASS OF WORKER - Civilian employed population 16 years and over - Government workers'],\n",
    "del econ_df['Percent; CLASS OF WORKER - Civilian employed population 16 years and over - Government workers'],\n",
    "del econ_df['Estimate; CLASS OF WORKER - Civilian employed population 16 years and over - Self-employed in own not incorporated business workers'],\n",
    "del econ_df['Percent; CLASS OF WORKER - Civilian employed population 16 years and over - Self-employed in own not incorporated business workers'],\n",
    "del econ_df['Estimate; CLASS OF WORKER - Civilian employed population 16 years and over - Unpaid family workers'],\n",
    "del econ_df['Percent; CLASS OF WORKER - Civilian employed population 16 years and over - Unpaid family workers'],\n",
    "del econ_df['Estimate; INCOME AND BENEFITS (IN 2017 INFLATION-ADJUSTED DOLLARS) - Total households'],\n",
    "del econ_df['Percent; INCOME AND BENEFITS (IN 2017 INFLATION-ADJUSTED DOLLARS) - Total households'],\n",
    "del econ_df['Estimate; INCOME AND BENEFITS (IN 2017 INFLATION-ADJUSTED DOLLARS) - Total households - Less than $10,000'],\n",
    "del econ_df['Percent; INCOME AND BENEFITS (IN 2017 INFLATION-ADJUSTED DOLLARS) - Total households - Less than $10,000'],\n",
    "del econ_df['Estimate; INCOME AND BENEFITS (IN 2017 INFLATION-ADJUSTED DOLLARS) - Total households - $10,000 to $14,999'],\n",
    "del econ_df['Percent; INCOME AND BENEFITS (IN 2017 INFLATION-ADJUSTED DOLLARS) - Total households - $10,000 to $14,999'],\n",
    "del econ_df['Estimate; INCOME AND BENEFITS (IN 2017 INFLATION-ADJUSTED DOLLARS) - Total households - $15,000 to $24,999'],\n",
    "del econ_df['Percent; INCOME AND BENEFITS (IN 2017 INFLATION-ADJUSTED DOLLARS) - Total households - $15,000 to $24,999'],\n",
    "del econ_df['Estimate; INCOME AND BENEFITS (IN 2017 INFLATION-ADJUSTED DOLLARS) - Total households - $25,000 to $34,999'],\n",
    "del econ_df['Percent; INCOME AND BENEFITS (IN 2017 INFLATION-ADJUSTED DOLLARS) - Total households - $25,000 to $34,999'],\n",
    "del econ_df['Estimate; INCOME AND BENEFITS (IN 2017 INFLATION-ADJUSTED DOLLARS) - Total households - $35,000 to $49,999'],\n",
    "del econ_df['Percent; INCOME AND BENEFITS (IN 2017 INFLATION-ADJUSTED DOLLARS) - Total households - $35,000 to $49,999'],\n",
    "del econ_df['Estimate; INCOME AND BENEFITS (IN 2017 INFLATION-ADJUSTED DOLLARS) - Total households - $50,000 to $74,999'],\n",
    "del econ_df['Percent; INCOME AND BENEFITS (IN 2017 INFLATION-ADJUSTED DOLLARS) - Total households - $50,000 to $74,999'],\n",
    "del econ_df['Estimate; INCOME AND BENEFITS (IN 2017 INFLATION-ADJUSTED DOLLARS) - Total households - $75,000 to $99,999'],\n",
    "del econ_df['Percent; INCOME AND BENEFITS (IN 2017 INFLATION-ADJUSTED DOLLARS) - Total households - $75,000 to $99,999'],\n",
    "del econ_df['Estimate; INCOME AND BENEFITS (IN 2017 INFLATION-ADJUSTED DOLLARS) - Total households - $100,000 to $149,999'],\n",
    "del econ_df['Percent; INCOME AND BENEFITS (IN 2017 INFLATION-ADJUSTED DOLLARS) - Total households - $100,000 to $149,999'],\n",
    "del econ_df['Estimate; INCOME AND BENEFITS (IN 2017 INFLATION-ADJUSTED DOLLARS) - Total households - $150,000 to $199,999'],\n",
    "del econ_df['Percent; INCOME AND BENEFITS (IN 2017 INFLATION-ADJUSTED DOLLARS) - Total households - $150,000 to $199,999'],\n",
    "del econ_df['Estimate; INCOME AND BENEFITS (IN 2017 INFLATION-ADJUSTED DOLLARS) - Total households - $200,000 or more'],\n",
    "del econ_df['Percent; INCOME AND BENEFITS (IN 2017 INFLATION-ADJUSTED DOLLARS) - Total households - $200,000 or more'],\n",
    "del econ_df['Estimate; HEALTH INSURANCE COVERAGE - Civilian noninstitutionalized population'],\n",
    "del econ_df['Percent; HEALTH INSURANCE COVERAGE - Civilian noninstitutionalized population'],\n",
    "del econ_df['Estimate; HEALTH INSURANCE COVERAGE - Civilian noninstitutionalized population - With health insurance coverage'],\n",
    "del econ_df['Percent; HEALTH INSURANCE COVERAGE - Civilian noninstitutionalized population - With health insurance coverage'],\n",
    "del econ_df['Estimate; HEALTH INSURANCE COVERAGE - Civilian noninstitutionalized population - With health insurance coverage - With private health insurance'],\n",
    "del econ_df['Percent; HEALTH INSURANCE COVERAGE - Civilian noninstitutionalized population - With health insurance coverage - With private health insurance'],\n",
    "del econ_df['Estimate; HEALTH INSURANCE COVERAGE - Civilian noninstitutionalized population - With health insurance coverage - With public coverage'],\n",
    "del econ_df['Percent; HEALTH INSURANCE COVERAGE - Civilian noninstitutionalized population - With health insurance coverage - With public coverage'],\n",
    "del econ_df['Estimate; HEALTH INSURANCE COVERAGE - Civilian noninstitutionalized population - No health insurance coverage'],\n",
    "del econ_df['Percent; HEALTH INSURANCE COVERAGE - Civilian noninstitutionalized population - No health insurance coverage'],\n",
    "del econ_df['Estimate; PERCENTAGE OF FAMILIES AND PEOPLE WHOSE INCOME IN THE PAST 12 MONTHS IS BELOW THE POVERTY LEVEL - All people'],\n",
    "del econ_df['Percent; PERCENTAGE OF FAMILIES AND PEOPLE WHOSE INCOME IN THE PAST 12 MONTHS IS BELOW THE POVERTY LEVEL - All people'],\n",
    "del econ_df['Estimate; PERCENTAGE OF FAMILIES AND PEOPLE WHOSE INCOME IN THE PAST 12 MONTHS IS BELOW THE POVERTY LEVEL - All people - Under 18 years'],\n",
    "del econ_df['Percent; PERCENTAGE OF FAMILIES AND PEOPLE WHOSE INCOME IN THE PAST 12 MONTHS IS BELOW THE POVERTY LEVEL - All people - Under 18 years'],\n",
    "del econ_df['Estimate; PERCENTAGE OF FAMILIES AND PEOPLE WHOSE INCOME IN THE PAST 12 MONTHS IS BELOW THE POVERTY LEVEL - All people - 18 years and over'],\n",
    "del econ_df['Percent; INCOME AND BENEFITS (IN 2017 INFLATION-ADJUSTED DOLLARS) - Median earnings for workers (dollars)'],\n",
    "del econ_df['Percent; INCOME AND BENEFITS (IN 2017 INFLATION-ADJUSTED DOLLARS) - Median earnings for male full-time, year-round workers (dollars)'],\n",
    "del econ_df['Percent; INCOME AND BENEFITS (IN 2017 INFLATION-ADJUSTED DOLLARS) - Total households - Median household income (dollars)'],\n",
    "del econ_df['Percent; INCOME AND BENEFITS (IN 2017 INFLATION-ADJUSTED DOLLARS) - Median earnings for female full-time, year-round workers (dollars)'],\n",
    "del econ_df['Percent; INCOME AND BENEFITS (IN 2017 INFLATION-ADJUSTED DOLLARS) - Total households - Mean household income (dollars)'],\n",
    "del econ_df['Percent; INCOME AND BENEFITS (IN 2017 INFLATION-ADJUSTED DOLLARS) - Per capita income (dollars)']\n",
    "\n",
    "\n",
    "# Original column names are ridiculous.  Shortening them to something more manageable.\n",
    "# Also need to make sure the 'Geography' column is renamed to 'state_name' so I can merge with my state data later on.\n",
    "\n",
    "# Rename columns and create a new dataframe from the result\n",
    "o_econ_df = econ_df.rename(index=str, columns={\n",
    "    \n",
    "    'Geography': \"state_name\", \n",
    "    'Estimate; EMPLOYMENT STATUS - Population 16 years and over': \"Emp_pop_all\",\n",
    "    'Percent; EMPLOYMENT STATUS - Population 16 years and over': \"Pct_Emp_pop_all\",\n",
    "    'Estimate; EMPLOYMENT STATUS - Population 16 years and over - Not in labor force': \"UnEmp_pop_all\",\n",
    "    'Percent; EMPLOYMENT STATUS - Population 16 years and over - Not in labor force': \"Pct_UnEmp_pop_all\",\n",
    "    'Estimate; EMPLOYMENT STATUS - Females 16 years and over': \"Emp_pop_Female\",\n",
    "    'Percent; EMPLOYMENT STATUS - Females 16 years and over': \"Pct_Emp_pop_Female\",\n",
    "    'Percent; PERCENTAGE OF FAMILIES AND PEOPLE WHOSE INCOME IN THE PAST 12 MONTHS IS BELOW THE POVERTY LEVEL - All people - 18 years and over': \"Pct_Pov_pop_all18\",\n",
    "    'Estimate; INCOME AND BENEFITS (IN 2017 INFLATION-ADJUSTED DOLLARS) - Total households - Median household income (dollars)': \"Total_median_income\",\n",
    "    'Estimate; INCOME AND BENEFITS (IN 2017 INFLATION-ADJUSTED DOLLARS) - Total households - Mean household income (dollars)': \"Total_mean_income\",\n",
    "    'Estimate; INCOME AND BENEFITS (IN 2017 INFLATION-ADJUSTED DOLLARS) - Per capita income (dollars)': \"Per_capita_income\",\n",
    "    'Estimate; INCOME AND BENEFITS (IN 2017 INFLATION-ADJUSTED DOLLARS) - Median earnings for workers (dollars)': \"Median_earnings\",\n",
    "    'Estimate; INCOME AND BENEFITS (IN 2017 INFLATION-ADJUSTED DOLLARS) - Median earnings for male full-time, year-round workers (dollars)': \"Median_male\",\n",
    "    'Estimate; INCOME AND BENEFITS (IN 2017 INFLATION-ADJUSTED DOLLARS) - Median earnings for female full-time, year-round workers (dollars)': \"Median_female\"\n",
    "\n",
    "   \n",
    "})\n",
    "\n",
    "# Merge the state data and my econ data on the state_name.  This allows me to bring the state_abbr column into the df, which I will need later on. \n",
    "o_econ_df_s = pd.merge(o_econ_df, state_data, on=\"state_name\")\n",
    "\n",
    "o_econ_df_s.to_csv(\"output_data/census_data.csv\")\n",
    "\n",
    "o_econ_df_s.head()"
   ]
  },
  {
   "cell_type": "code",
   "execution_count": null,
   "metadata": {
    "colab": {},
    "colab_type": "code",
    "id": "z9LALL90hxPx",
    "outputId": "7c2aaefc-8fbe-445e-a09b-a19fb331cc15"
   },
   "outputs": [],
   "source": [
    "#MURDER RATES AND DEATH PENALTY BY STATE\n",
    "#I only want data for 2017\n",
    "\n",
    "#IMPORT MURDER RATE & DEATH PENALTY BY STATE (DEATH PENALTY.ORG) \n",
    "ses_mr_path = \"Resources/Murder_Rates_By_State_data.csv\"\n",
    "ses_mr_df = pd.read_csv(ses_mr_path, encoding=\"ISO-8859-1\")\n",
    "ses_mr_df = ses_mr_df.rename(columns={\"State\": \"state_name\"})\n",
    "ses_mr_2017 = ses_mr_df.loc[ses_mr_df['Year']=='1/1/2017', :]\n",
    "\n",
    "ses_mr_2017.to_csv(\"output_data/Murder_Rates_and_Death_Penalty_by_State_2017.csv\")\n",
    "\n",
    "ses_mr_2017.head()"
   ]
  },
  {
   "cell_type": "markdown",
   "metadata": {
    "colab_type": "text",
    "id": "XQpWwsEahxP1"
   },
   "source": [
    "# State of the Nation:  Looking at Overall Homicide Counts and Homicide Rates"
   ]
  },
  {
   "cell_type": "code",
   "execution_count": null,
   "metadata": {
    "colab": {},
    "colab_type": "code",
    "id": "Da3U3lPxhxP2"
   },
   "outputs": [],
   "source": [
    "#Data grab from FBI Victim API at https://crime-data-explorer.fr.cloud.gov/api\n",
    "\n",
    "AM_age_query = \"https://api.usa.gov/crime/fbi/sapi/api/data/nibrs/homicide/victim/national/age?api_key=\"+ am_dg_key\n",
    "AM_age_response = requests.get(AM_age_query).json()\n"
   ]
  },
  {
   "cell_type": "code",
   "execution_count": null,
   "metadata": {
    "colab": {},
    "colab_type": "code",
    "id": "G9P4Q3gbhxP5"
   },
   "outputs": [],
   "source": [
    "#Creating DF by ages/cleaning and formatting data/totalling counts\n",
    "AM_age_data = pd.DataFrame(AM_age_response['results'])\n",
    "AM_age_data = AM_age_data.sort_values(by='data_year', ascending=False)\n",
    "AM_age_data = AM_age_data.reset_index(drop=True)\n",
    "AM_age_data[\"Total\"] = (AM_age_data.sum(axis=1)) - AM_age_data['data_year']\n",
    "\n",
    "#Creating data frame to house total count information\n",
    "counts_by_year = AM_age_data[['data_year', 'Total']]\n",
    "counts_by_year = counts_by_year.loc[counts_by_year['data_year']>= 2007, :]"
   ]
  },
  {
   "cell_type": "code",
   "execution_count": null,
   "metadata": {
    "colab": {},
    "colab_type": "code",
    "id": "Hit_gOzEhxP9"
   },
   "outputs": [],
   "source": [
    "#Pulling in data about US Murder Rates to compare with counts\n",
    "#Rates pre 2015 from: https://www.ucrdatatool.gov/Search/Crime/State/StateCrime.cfm\n",
    "#Rates post 2014 from: https://www.cdc.gov/nchs/pressroom/sosmap/homicide_mortality/homicide.htm\n",
    "\n",
    "csv = \"Resources/US_Murder_Rates.csv\"\n",
    "national_rates = pd.read_csv(csv)\n",
    "national_rates = national_rates.loc[national_rates[\"Year\"]!='\\t\\t']\n",
    "national_rates[\"Year\"] = national_rates[\"Year\"].astype(int)\n",
    "national_rates = national_rates.loc[national_rates[\"Year\"]>=2007,:]\n",
    "national_rates = national_rates.sort_values(by='Year', ascending = False)\n",
    "national_rates\n",
    "\n",
    "counts_by_year[\"Murder Rate\"] = national_rates[\"United States-Total\"].values\n"
   ]
  },
  {
   "cell_type": "code",
   "execution_count": null,
   "metadata": {
    "colab": {},
    "colab_type": "code",
    "id": "lhwOySPbhxQB"
   },
   "outputs": [],
   "source": [
    "year = AM_age_data['data_year']\n",
    "range0 = AM_age_data['range_0_9']\n",
    "range1 = AM_age_data['range_10_19']\n",
    "range2 = AM_age_data['range_20_29']\n",
    "range3 = AM_age_data['range_30_39']\n",
    "range4 = AM_age_data['range_40_49']\n",
    "range5 = AM_age_data['range_50_59']\n",
    "range6 = AM_age_data['range_60_69']\n",
    "range7 = AM_age_data['range_70_79']\n",
    "range8 = AM_age_data['range_80_89']\n",
    "range9 = AM_age_data['range_90_99']\n",
    "\n",
    "plt.scatter(year, range0, marker=\"o\", facecolors=\"blue\", edgecolors=\"black\", alpha=0.75, label='0-9 Years Old' ,s=range0)\n",
    "plt.scatter(year, range1, marker=\"o\", facecolors=\"green\", edgecolors=\"black\", alpha=0.75, label='10-19 Years Old', s=range1) \n",
    "plt.scatter(year, range2, marker=\"o\", facecolors=\"yellow\", edgecolors=\"black\", alpha=0.75, label='20-29 Years Old', s=range2) \n",
    "plt.scatter(year, range3, marker=\"o\", facecolors=\"red\", edgecolors=\"black\", alpha=0.75, label='30-39 Years Old', s=range3) \n",
    "plt.scatter(year, range4, marker=\"o\", facecolors=\"purple\", edgecolors=\"black\", alpha=0.75, label='40-49 Years Old', s=range4) \n",
    "plt.scatter(year, range5, marker=\"o\", facecolors=\"orange\", edgecolors=\"black\", alpha=0.75, label='50-59 Years Old', s=range5) \n",
    "plt.scatter(year, range6, marker=\"o\", facecolors=\"lightblue\", edgecolors=\"black\", alpha=0.75, label='60-69 Years Old', s=range6) \n",
    "plt.scatter(year, range7, marker=\"o\", facecolors=\"lightgreen\", edgecolors=\"black\", alpha=0.75, label='70-79 Years Old', s=range7) \n",
    "plt.scatter(year, range8, marker=\"o\", facecolors=\"coral\", edgecolors=\"black\", alpha=0.75, label='80-89 Years Old', s=range8) \n",
    "plt.scatter(year, range9, marker=\"o\", facecolors=\"gold\", edgecolors=\"black\", alpha=0.75, label='90-99 Years Old', s=range9) \n",
    "\n",
    "\n",
    "#Incorporate the other graph properties\n",
    "plt.grid()\n",
    "\n",
    "plt.xlim(left=2006, right=2019)\n",
    "plt.ylim(bottom=0, top=2000)\n",
    "\n",
    "plt.xlabel(\"Year\")\n",
    "plt.ylabel(\"Number of Homicides\")\n",
    "plt.title(\"Number of Homicides per Age Range by Year \\n 2007-2017\")\n",
    "\n",
    "#Create a legend\n",
    "plt.legend(bbox_to_anchor=(1.05, 1), loc=2, borderaxespad=0, fontsize = 8, title= \"Age Ranges\") \n",
    "plt.figtext(0, -.15, 'Sources: https://crime-data-explorer.fr.cloud.gov/api', horizontalalignment='left')\n",
    "\n",
    "#Save Figure\n",
    "plt.savefig(\"Images/Counts_by_Age.png\", bbox_inches='tight',pad_inches=1)\n"
   ]
  },
  {
   "cell_type": "code",
   "execution_count": null,
   "metadata": {
    "colab": {},
    "colab_type": "code",
    "id": "XjBzX8nfhxQD"
   },
   "outputs": [],
   "source": [
    "year = counts_by_year['data_year']\n",
    "total_cts = counts_by_year['Total']\n",
    "rates = counts_by_year['Murder Rate']\n",
    "\n",
    "fig, ax1 = plt.subplots() \n",
    "\n",
    "ax1.plot(year, total_cts, color = 'red', label = 'Number of Homicides')\n",
    "ax1.set_ylabel('Number of Homicides in US', color = 'red')\n",
    "ax1.set_xlabel('Year')\n",
    "ax1.tick_params(axis='y', labelcolor='red')\n",
    "\n",
    "ax2=ax1.twinx()\n",
    "ax2.plot(year, rates, color = 'blue', label = 'Rate of Homicides')\n",
    "ax2.set_ylabel('US Homicide Rate*', color = 'blue')\n",
    "ax2.tick_params(axis='y', labelcolor='blue')\n",
    "\n",
    "\n",
    "plt.title(\"Comparing Number of Homicides in US to Homicide Rate \\n 2007-2017\")\n",
    "plt.figtext(0, -.15, '*Homicide rate calculated per 100,000 in population \\n' \\\n",
    "            'Sources: https://www.ucrdatatool.gov/Search/Crime/State/StateCrime.cfm \\n'\\\n",
    "            '               https://www.cdc.gov/nchs/pressroom/sosmap/homicide_mortality/homicide.htm', \\\n",
    "            horizontalalignment='left')\n",
    "\n",
    "\n",
    "\n",
    "plt.savefig(\"Images/Counts_vs_Rate.png\", bbox_inches='tight',pad_inches=1)\n",
    "\n"
   ]
  },
  {
   "cell_type": "markdown",
   "metadata": {
    "colab_type": "text",
    "id": "KZLiWuTMhxQF"
   },
   "source": [
    "## Looking at Public Perception v. Homicide Rates"
   ]
  },
  {
   "cell_type": "code",
   "execution_count": null,
   "metadata": {
    "colab": {},
    "colab_type": "code",
    "id": "vCqtsj7NhxQF"
   },
   "outputs": [],
   "source": [
    "#us homicide rates from https://www.ucrdatatool.gov/Search/Crime/State/StateCrime.cfm and\n",
    "#https://www.cdc.gov/nchs/pressroom/sosmap/homicide_mortality/homicide.htm\n",
    "\n",
    "#Confidence data from https://www.people-press.org/2019/04/11/public-trust-in-government-1958-2019/\n",
    "\n",
    "#Approval Ratings from https://news.gallup.com/interactives/185273/presidential-job-approval-center.aspx\n",
    "\n",
    "csv1=\"Resources/US_Murder_Rates.csv\"\n",
    "csv2=\"Resources/GovtConfidence.csv\"\n",
    "csv3=\"Resources/PublicApproval.csv\"\n",
    "\n",
    "us_rates=pd.read_csv(csv1)\n",
    "confidence=pd.read_csv(csv2)\n",
    "approval=pd.read_csv(csv3)\n",
    "\n",
    "#Cleaning unusable data\n",
    "us_rates=us_rates.loc[us_rates[\"Year\"]!='\\t\\t',:]\n",
    "us_rates = us_rates.dropna()\n",
    "\n",
    "#Using only data from 2007 or later\n",
    "us_rates[\"Year\"]=us_rates[\"Year\"].astype(int)\n",
    "us_rates=us_rates.loc[us_rates[\"Year\"]>=2007,:]\n",
    "\n",
    "confidence['Year']=confidence['Year'].astype(int)\n",
    "confidence=confidence.loc[confidence['Year']<2018,:]\n",
    "confidence = confidence.loc[confidence['Year']>=2007,:]\n",
    "\n",
    "approval['Year']=approval['Year'].astype(int)\n",
    "approval=approval.loc[approval['Year']<2018,:]\n",
    "\n",
    "confidence_grouped=confidence.groupby('Year').mean()\n"
   ]
  },
  {
   "cell_type": "code",
   "execution_count": null,
   "metadata": {
    "colab": {},
    "colab_type": "code",
    "id": "vWI3g2DRhxQH"
   },
   "outputs": [],
   "source": [
    "#Plotting Ratings vs Homicide Rates\n",
    "\n",
    "x=us_rates[\"Year\"]\n",
    "conf=confidence_grouped[\"Moving Average\"]\n",
    "app= approval[\"Rating\"]\n",
    "rates=us_rates[\"United States-Total\"]\n",
    "\n",
    "fig, ax1 = plt.subplots()\n",
    "\n",
    "\n",
    "ax1.plot(x, conf, color='navy', label=\"Confidence \")\n",
    "ax1.plot(x, app, color='maroon', label=\"Approval \")\n",
    "ax1.set_ylabel('Rating')\n",
    "\n",
    "ax2=ax1.twinx()\n",
    "ax2.plot(x, rates, color=\"orange\", label=\"US Homicide Rate\")\n",
    "ax2.set_ylabel('US Homicide Rate')\n",
    "ax1.set_xlabel('Year')\n",
    "\n",
    "ax1.legend()\n",
    "ax2.legend(loc=\"upper center\")\n",
    "\n",
    "plt.title(\"Public Trust in Government & Presidential Approval Ratings \\n Compared to US Homicide Rates\")\n",
    "plt.figtext(0, -.3, '*Homicide rate calculated per 100,000 in population \\n' \\\n",
    "            'Sources: https://www.ucrdatatool.gov/Search/Crime/State/StateCrime.cfm \\n'\\\n",
    "            '               https://www.cdc.gov/nchs/pressroom/sosmap/homicide_mortality/homicide.htm \\n' \\\n",
    "            '               https://www.people-press.org/2019/04/11/public-trust-in-government-1958-2019/ \\n'\\\n",
    "            '               https://news.gallup.com/interactives/185273/presidential-job-approval-center.aspx', \\\n",
    "            horizontalalignment='left')\n",
    "\n",
    "plt.savefig(\"Images/Public_Opinion_V_Rates.png\", bbox_inches='tight', pad_inches=1)\n",
    "\n"
   ]
  },
  {
   "cell_type": "markdown",
   "metadata": {
    "colab_type": "text",
    "id": "r58WWPDXhxQJ"
   },
   "source": [
    "## Homicide Rates by State/Year "
   ]
  },
  {
   "cell_type": "code",
   "execution_count": null,
   "metadata": {
    "colab": {},
    "colab_type": "code",
    "id": "LSmC-bAlhxQL",
    "outputId": "c75cd98d-8525-4533-9061-95481266e836"
   },
   "outputs": [],
   "source": [
    "#Reading csv file containing state homicide rates by year\n",
    "#Data from https://www.ucrdatatool.gov/Search/Crime/State/StateCrime.cfm \n",
    "#and https://www.cdc.gov/nchs/pressroom/sosmap/homicide_mortality/homicide.htm\n",
    "csv=\"Resources/Homicide_Rates_State.csv\"\n",
    "state_rates=pd.read_csv(csv)\n",
    "#once merged change the filepath\n",
    "\n",
    "#Cleaning unusable data\n",
    "state_rates=state_rates.loc[state_rates[\"Year\"]!='\\t\\t',:]\n",
    "state_rates = state_rates.dropna()\n",
    "\n",
    "#Using only data from 2007 or later\n",
    "state_rates[\"Year\"]=state_rates[\"Year\"].astype(int)\n",
    "\n",
    "current_rates=state_rates.loc[state_rates[\"Year\"]>=2007,:]\n",
    "\n",
    "#Formatting data\n",
    "transposed_rates=current_rates.T\n",
    "\n",
    "transposed_rates=transposed_rates.rename(columns={47:\"HR'07\",\n",
    "                                           48:\"HR'08\",\n",
    "                                           49:\"HR'09\",\n",
    "                                           50:\"HR'10\",\n",
    "                                           51:\"HR'11\",\n",
    "                                           52:\"HR'12\",\n",
    "                                           53:\"HR'13\",\n",
    "                                           54:\"HR'14\",\n",
    "                                           55:\"HR'15\",\n",
    "                                           56:\"HR'16\",\n",
    "                                           57:\"HR'17\",})\n",
    "\n",
    "final_HRates=transposed_rates.drop([\"Year\", \"United States-Total\"])\n",
    "\n",
    "final_HRates = final_HRates.reset_index()\n",
    "final_HRates.head()"
   ]
  },
  {
   "cell_type": "markdown",
   "metadata": {
    "colab_type": "text",
    "id": "0xiYvLTnhxQO"
   },
   "source": [
    "## State Homicide Rates by Designation\n",
    "### *in Presidential Election Years 2008, 2012, 2016"
   ]
  },
  {
   "cell_type": "code",
   "execution_count": null,
   "metadata": {
    "colab": {},
    "colab_type": "code",
    "id": "JkxZGNvHhxQP",
    "outputId": "cbab88f0-7250-4f0b-a5ec-84cb5123e1e5"
   },
   "outputs": [],
   "source": [
    "#once merged change the filepath\n",
    "\n",
    "#Reading csv file containing historical electoral college data, from \n",
    "#https://www.archives.gov/federal-register/electoral-college/votes/2000_2005.html#2004\n",
    "csv=\"Resources/ElectoralCollegeData.csv\"\n",
    "votesDF=pd.read_csv(csv)\n",
    "\n",
    "#Only using data from 2007 or after; Designating states as \"Red\" or \"Blue\" based on majority of\n",
    "#electoral vote\n",
    "votesDF = votesDF.loc[votesDF[\"Year\"] >2007,:]\n",
    "votesDF['Designation'] = np.where(votesDF['Rep Total']> votesDF['Dem Total'], 'Red', 'Blue')\n",
    "\n",
    "#Formatting DF to include both designations and homicide rates for election years\n",
    "designationDF=votesDF.loc[votesDF[\"Year\"]==2008, [\"State\", \"Designation\"]]\n",
    "\n",
    "designationDF=designationDF.rename(columns = {\"Designation\":'2008'})\n",
    "\n",
    "designationDF['2012']=votesDF.loc[votesDF[\"Year\"]==2012,[\"Designation\"]].values\n",
    "designationDF['2016']=votesDF.loc[votesDF[\"Year\"]==2016,[\"Designation\"]].values\n",
    "\n",
    "politicsDF=designationDF.loc[designationDF[\"State\"]!=\"District of Columbia\",:]\n",
    "politicsDF=politicsDF.reset_index(drop=True)\n",
    "\n",
    "politicsDF[\"HRate 08\"]= final_HRates[\"HR'08\"].values\n",
    "politicsDF[\"HRate 12\"]= final_HRates[\"HR'12\"].values\n",
    "politicsDF[\"HRate 16\"]= final_HRates[\"HR'16\"].values\n",
    "\n",
    "politicsDF.loc[politicsDF[\"State\"]==\"Nebraska\\xa0\", \"State\"]=\"Nebraska\"\n",
    "\n",
    "#once merged change the filepath\n",
    "#reading in data to assign general state coordinates\n",
    "#data from https://developers.google.com/public-data/docs/canonical/states_csv\n",
    "csv = \"Resources/state_lat_long.csv\"\n",
    "coords = pd.read_csv(csv)\n",
    "coords = coords.rename(columns = {\"name\":\"State\", \"state\":\"Abbv\"})\n",
    "\n",
    "#Merging politicsDF and coordsDF for one complete DF\n",
    "poli_map = pd.merge(politicsDF, coords, on=\"State\", how = 'inner')\n",
    "poli_map.head()"
   ]
  },
  {
   "cell_type": "markdown",
   "metadata": {
    "colab_type": "text",
    "id": "QwdgQpp_hxQS"
   },
   "source": [
    "### Creating individual dataframes for each designation in each election year"
   ]
  },
  {
   "cell_type": "code",
   "execution_count": null,
   "metadata": {
    "colab": {},
    "colab_type": "code",
    "id": "DyIcwhyjhxQS"
   },
   "outputs": [],
   "source": [
    "poli_08_blue = poli_map.loc[poli_map[\"2008\"]==\"Blue\", :]\n",
    "poli_08_blue = poli_08_blue[[\"Abbv\", \"2008\", \"HRate 08\", \"latitude\", \"longitude\"]]\n",
    "\n",
    "poli_08_red = poli_map.loc[poli_map[\"2008\"]==\"Red\", :]\n",
    "poli_08_red = poli_08_red[[\"Abbv\", \"2008\", \"HRate 08\", \"latitude\", \"longitude\"]]\n",
    "\n",
    "poli_12_blue = poli_map.loc[poli_map[\"2012\"]==\"Blue\", :]\n",
    "poli_12_blue = poli_12_blue[[\"Abbv\", \"2012\", \"HRate 12\", \"latitude\", \"longitude\"]]\n",
    "\n",
    "poli_12_red = poli_map.loc[poli_map[\"2012\"]==\"Red\", :]\n",
    "poli_12_red = poli_12_red[[\"Abbv\", \"2012\", \"HRate 12\", \"latitude\", \"longitude\"]]\n",
    "\n",
    "poli_16_blue = poli_map.loc[poli_map[\"2016\"]==\"Blue\", :]\n",
    "poli_16_blue = poli_16_blue[[\"Abbv\", \"2016\", \"HRate 16\", \"latitude\", \"longitude\"]]\n",
    "\n",
    "poli_16_red = poli_map.loc[poli_map[\"2016\"]==\"Red\", :]\n",
    "poli_16_red = poli_16_red[[\"Abbv\", \"2016\", \"HRate 16\", \"latitude\", \"longitude\"]]\n"
   ]
  },
  {
   "cell_type": "markdown",
   "metadata": {
    "colab_type": "text",
    "id": "9AaseiAIhxQU"
   },
   "source": [
    "### Statistical analysis: Average Homicide Rates by Political Designation in Presidential Election Years"
   ]
  },
  {
   "cell_type": "code",
   "execution_count": null,
   "metadata": {
    "colab": {},
    "colab_type": "code",
    "id": "mYKMlZ3-hxQV",
    "outputId": "1f4d2a08-06c8-49a8-f77c-96fd9ed38bd7"
   },
   "outputs": [],
   "source": [
    "#DF of averages by designation \n",
    "years=[2008, 2012, 2016]\n",
    "blue=[(poli_08_blue['HRate 08'].mean()), (poli_12_blue['HRate 12'].mean()), (poli_16_blue['HRate 16'].mean())]\n",
    "red=[(poli_08_red['HRate 08'].mean()), (poli_12_red['HRate 12'].mean()), (poli_16_red['HRate 16'].mean())]\n",
    "\n",
    "avg_hrate_by_des=pd.DataFrame(years)\n",
    "avg_hrate_by_des=avg_hrate_by_des.rename(columns={0:\"Year\"})\n",
    "avg_hrate_by_des[\"Blue\"]=blue\n",
    "avg_hrate_by_des[\"Red\"]=red\n",
    "avg_hrate_by_des"
   ]
  },
  {
   "cell_type": "code",
   "execution_count": null,
   "metadata": {
    "colab": {},
    "colab_type": "code",
    "id": "8bfxbI3OhxQZ"
   },
   "outputs": [],
   "source": [
    "fig, ax1 = plt.subplots()\n",
    "\n",
    "N=3\n",
    "ind=np.arange(N)\n",
    "width=.4\n",
    "\n",
    "ax1.bar(ind, blue, width, color='blue', label=\"Blue\")\n",
    "ax1.bar(ind+width, red, width, color='red', label=\"Red\")\n",
    "\n",
    "ax1.set_xticks(ind + width / 2)\n",
    "ax1.set_xticklabels(('2008', '2012', '2016'))\n",
    "ax1.set_xlabel(\"Election Year\")\n",
    "\n",
    "plt.title(\"Average of State Homicide Rates by Political \\n Designation in Presidential Election Years\")\n",
    "\n",
    "plt.figtext(0, -.2, '*Homicide rate calculated per 100,000 in population \\n' \\\n",
    "            'Sources: https://www.ucrdatatool.gov/Search/Crime/State/StateCrime.cfm \\n'\\\n",
    "            '               https://www.cdc.gov/nchs/pressroom/sosmap/homicide_mortality/homicide.htm \\n' \\\n",
    "            '               https://www.archives.gov/federal-register/electoral-college/votes/2000_2005.html#2004', \\\n",
    "            horizontalalignment='left')\n",
    "\n",
    "plt.savefig(\"Images/HRates_by_Des.png\", bbox_inches='tight', pad_inches=1)"
   ]
  },
  {
   "cell_type": "code",
   "execution_count": null,
   "metadata": {
    "colab": {},
    "colab_type": "code",
    "id": "J-j6rpvehxQb"
   },
   "outputs": [],
   "source": [
    "#Creating sample groups for a TTest\n",
    "sample_blue_08 = poli_08_blue[\"HRate 08\"]\n",
    "sample_red_08 = poli_08_red[\"HRate 08\"]\n",
    "\n",
    "sample_blue_12 = poli_12_blue[\"HRate 12\"]\n",
    "sample_red_12 = poli_12_red[\"HRate 12\"]\n",
    "\n",
    "sample_blue_16 = poli_16_blue[\"HRate 16\"]\n",
    "sample_red_16 = poli_16_red[\"HRate 16\"]"
   ]
  },
  {
   "cell_type": "code",
   "execution_count": null,
   "metadata": {
    "colab": {},
    "colab_type": "code",
    "id": "jjb5W8MAhxQe"
   },
   "outputs": [],
   "source": [
    "#Finding Std Dev of each sample\n",
    "SD_b08=np.std(sample_blue_08) \n",
    "SD_r08=np.std(sample_red_08)\n",
    "\n",
    "SD_b12=np.std(sample_blue_12) \n",
    "SD_r12=np.std(sample_red_12)\n",
    "\n",
    "SD_b16=np.std(sample_blue_16) \n",
    "SD_r16=np.std(sample_red_16)"
   ]
  },
  {
   "cell_type": "code",
   "execution_count": null,
   "metadata": {
    "colab": {},
    "colab_type": "code",
    "id": "7V-nDx46hxQg"
   },
   "outputs": [],
   "source": [
    "#Running ttests on samples\n",
    "stats.ttest_ind(sample_blue_08, sample_red_08, equal_var=False)\n",
    "P08=0.182469\n",
    "\n",
    "stats.ttest_ind(sample_blue_12, sample_red_12, equal_var=False)\n",
    "P12=0.05087216\n",
    "\n",
    "stats.ttest_ind(sample_blue_16, sample_red_16, equal_var=False)\n",
    "P16=0.01800191"
   ]
  },
  {
   "cell_type": "code",
   "execution_count": null,
   "metadata": {
    "colab": {},
    "colab_type": "code",
    "id": "B4p2KspJhxQi",
    "outputId": "ab70a140-02d0-4bc2-cc5b-fc3a8e65bae7"
   },
   "outputs": [],
   "source": [
    "#plotting p values on top of previous plot\n",
    "stdB=[SD_b08, SD_b12, SD_b16]\n",
    "stdR=[SD_r08, SD_r12, SD_r16]\n",
    "p_value=[P08, P12, P16]\n",
    "\n",
    "fig, ax1 = plt.subplots()\n",
    "\n",
    "N=3\n",
    "ind=np.arange(N)\n",
    "width=.4\n",
    "\n",
    "ax1.bar(ind, blue, width, color='blue', label=\"Dem\", yerr=stdB)\n",
    "ax1.bar(ind+width, red, width, color='red', label=\"Rep\", yerr=stdR)\n",
    "ax1.set_ylabel('Average Homicide Rate')\n",
    "ax1.set_xticks(ind + width / 2)\n",
    "ax1.set_xticklabels(('2008', '2012', '2016'))\n",
    "\n",
    "ax2=ax1.twinx()\n",
    "ax2.plot(ind+.2, p_value, color=\"orange\", marker=\"o\", label=\"P-Value\")\n",
    "ax2.set_ylabel('T-test P Value')\n",
    "ax1.set_xlabel('Election Year')\n",
    "\n",
    "\n",
    "ax2.legend(loc=\"upper center\")\n",
    "plt.title(\"Average of State Homicide Rates by Political \\n Designation in Presidential Election Years\")\n",
    "plt.figtext(0, -.2, '*Homicide rate calculated per 100,000 in population \\n' \\\n",
    "            'Sources: https://www.ucrdatatool.gov/Search/Crime/State/StateCrime.cfm \\n'\\\n",
    "            '               https://www.cdc.gov/nchs/pressroom/sosmap/homicide_mortality/homicide.htm \\n' \\\n",
    "            '               https://www.archives.gov/federal-register/electoral-college/votes/2000_2005.html#2004', \\\n",
    "            horizontalalignment='left')\n",
    "\n",
    "plt.savefig(\"Images/HRates_by_Des_Pvalue.png\", bbox_inches='tight', pad_inches=1)"
   ]
  },
  {
   "cell_type": "markdown",
   "metadata": {
    "colab_type": "text",
    "id": "2RW_lLNkhxQl"
   },
   "source": [
    "## Homicide Rates by State Map for Each Election Year"
   ]
  },
  {
   "cell_type": "code",
   "execution_count": null,
   "metadata": {
    "colab": {},
    "colab_type": "code",
    "id": "OqpAEcr4hxQm",
    "outputId": "56b351d8-84b3-43e9-9405-d7ab2324495a"
   },
   "outputs": [],
   "source": [
    "#2008 election \n",
    "gmaps.configure(api_key=am_gkey)\n",
    "blue_coords_08 = poli_08_blue[['latitude','longitude']].dropna()\n",
    "red_coords_08= poli_08_red[['latitude','longitude']].dropna()\n",
    "\n",
    "blue_weights=poli_08_blue[\"HRate 08\"].astype(int)\n",
    "red_weights=poli_08_red[\"HRate 08\"].astype(int)\n",
    "\n",
    "blue_marks_08=gmaps.symbol_layer(blue_coords_08, fill_color=\"blue\", stroke_color=\"black\", \n",
    "                                 stroke_opacity=0, scale=[i for i in blue_weights])\n",
    "\n",
    "red_marks_08=gmaps.symbol_layer(red_coords_08, fill_color=\"red\", stroke_color=\"black\", \n",
    "                                 stroke_opacity=0, scale=[i for i in red_weights])\n",
    "\n",
    "fig = gmaps.figure()\n",
    "fig.add_layer(blue_marks_08)\n",
    "fig.add_layer(red_marks_08)\n",
    "fig"
   ]
  },
  {
   "cell_type": "code",
   "execution_count": null,
   "metadata": {
    "colab": {},
    "colab_type": "code",
    "id": "r6YGUWouhxQp",
    "outputId": "b8e87020-4596-4d58-afec-aec3802aa105"
   },
   "outputs": [],
   "source": [
    "#2012 election\n",
    "blue_coords_12 = poli_12_blue[['latitude','longitude']]\n",
    "red_coords_12= poli_12_red[['latitude','longitude']]\n",
    "\n",
    "blue_weights_12=poli_12_blue[\"HRate 12\"].astype(int)\n",
    "red_weights_12=poli_12_red[\"HRate 12\"].astype(int)\n",
    "\n",
    "blue_marks_12=gmaps.symbol_layer(blue_coords_12, fill_color=\"blue\", stroke_color=\"black\", \\\n",
    "                                stroke_opacity=0, scale=[i for i in blue_weights_12])\n",
    "\n",
    "red_marks_12=gmaps.symbol_layer(red_coords_12, fill_color=\"red\", stroke_color=\"black\", \\\n",
    "                                stroke_opacity=0, scale=[i for i in red_weights_12])\n",
    "\n",
    "fig = gmaps.figure()\n",
    "fig.add_layer(blue_marks_12)\n",
    "fig.add_layer(red_marks_12)\n",
    "fig\n"
   ]
  },
  {
   "cell_type": "code",
   "execution_count": null,
   "metadata": {
    "colab": {},
    "colab_type": "code",
    "id": "bXHMUagMhxQq",
    "outputId": "28ce7924-1fdb-44cb-ff4b-e9395ee10a91"
   },
   "outputs": [],
   "source": [
    "#2016 election \n",
    "poli_16_blue.loc[poli_16_blue[\"HRate 16\"]==0,\"HRate 16\"]=1\n",
    "for_map_blue=poli_16_blue\n",
    "\n",
    "poli_16_red.loc[poli_16_red[\"HRate 16\"]==0, \"HRate 16\"]=1\n",
    "for_map_red=poli_16_red\n",
    "\n",
    "blue_coords_16 = for_map_blue[['latitude','longitude']]\n",
    "red_coords_16= for_map_red[['latitude','longitude']]\n",
    "\n",
    "\n",
    "blue_weights_16=for_map_blue[\"HRate 16\"].astype(int)\n",
    "red_weights_16=for_map_red[\"HRate 16\"].astype(int)\n",
    "\n",
    "\n",
    "\n",
    "blue_marks_16=gmaps.symbol_layer(blue_coords_16, fill_color=\"blue\", stroke_color=\"black\", \\\n",
    "                                stroke_opacity=0, scale=[i for i in blue_weights_16])\n",
    "\n",
    "red_marks_16=gmaps.symbol_layer(red_coords_16, fill_color=\"red\", stroke_color=\"black\", \\\n",
    "                                stroke_opacity=0, scale=[i for i in red_weights_16])\n",
    "\n",
    "fig = gmaps.figure()\n",
    "fig.add_layer(blue_marks_16)\n",
    "fig.add_layer(red_marks_16)\n",
    "fig"
   ]
  },
  {
   "cell_type": "markdown",
   "metadata": {
    "colab_type": "text",
    "id": "iQdSCRLehxQu"
   },
   "source": [
    "# BEGIN ECONOMIC ANALYSIS"
   ]
  },
  {
   "cell_type": "code",
   "execution_count": null,
   "metadata": {
    "colab": {},
    "colab_type": "code",
    "id": "lrGQyJuXhxQw",
    "outputId": "a5e616af-4485-466e-f814-cbd6bf352567"
   },
   "outputs": [],
   "source": [
    "#PERCENTAGE OF AGENCIES REPORTING DATA TO THE FBI PER STATE\n",
    "a_states = agency_df['state_abbr']\n",
    "agency_pct = agency_df['Pct Active']\n",
    "x_axis = np.arange(len(a_states))\n",
    "\n",
    "plt.figure(figsize=(20, 5))\n",
    "\n",
    "mask2 = agency_pct < 50\n",
    "mask3 = agency_pct > 50\n",
    "mask4 = agency_pct > 90\n",
    "\n",
    "\n",
    "plt.bar(x_axis[mask2], agency_pct[mask2], color='red', alpha=0.5, align='center', label=\"Less than 50% reporting\")\n",
    "plt.bar(x_axis[mask3], agency_pct[mask3], color='gray', alpha=0.5, align='center' ,label='Between 50-90% reporting')\n",
    "plt.bar(x_axis[mask4], agency_pct[mask4], color='black', alpha=0.5, align='center' ,label='Over 90% reporting')\n",
    "\n",
    "\n",
    "plt.legend(loc='best', borderaxespad=0, fontsize = 12, title= \"Percentage Reporting\") \n",
    "\n",
    "tick_locations = [value for value in x_axis]\n",
    "plt.xticks(tick_locations, a_states, rotation=\"vertical\")\n",
    "\n",
    "plt.xlim(-1, len(x_axis))\n",
    "\n",
    "plt.title(\"Percentage of Agencies Reporting Data to FBI\")\n",
    "plt.xlabel(\"State\")\n",
    "plt.ylabel(\"Percentage\")\n",
    "\n",
    "plt.savefig(\"Images/Agencies_Reporting_to_FBI.png\")"
   ]
  },
  {
   "cell_type": "code",
   "execution_count": null,
   "metadata": {
    "colab": {},
    "colab_type": "code",
    "id": "R0swyQ6KhxQ0",
    "outputId": "13de4d95-869e-47b8-f2b4-c62c37f2da68"
   },
   "outputs": [],
   "source": [
    "#PER CAPITA INCOME BY STATE FOR 2017 - - BASED ON 2017 CENSUS DATA ONLY \n",
    "c_states = ses_mrcensus['state_abbr']\n",
    "per_capita = ses_mrcensus['Per_capita_income']\n",
    "x_axis = np.arange(len(c_states))\n",
    "\n",
    "plt.figure(figsize=(20, 5))\n",
    "plt.bar(x_axis, per_capita, color='gray', alpha=0.5, align='center')\n",
    "\n",
    "tick_locations = [value for value in x_axis]\n",
    "plt.xticks(tick_locations, c_states, rotation=\"vertical\")\n",
    "\n",
    "plt.xlim(-1, len(x_axis))\n",
    "\n",
    "plt.title(\"Per Capita Income and Benefits by State (2017)\")\n",
    "plt.xlabel(\"State\")\n",
    "plt.ylabel(\"Income (Inflation Adjusted Dollars)\")\n",
    "\n",
    "plt.savefig(\"Images/State_PerCapita_Income_2017.png\")"
   ]
  },
  {
   "cell_type": "code",
   "execution_count": null,
   "metadata": {
    "colab": {},
    "colab_type": "code",
    "id": "-sKmOEcxhxQ4",
    "outputId": "776a1639-599a-4b87-a358-9955dafc616a"
   },
   "outputs": [],
   "source": [
    "#MEDIAN EARNINGS (MALE & FEMALE SIDE-BY-SIDE) BY STATE FOR 2017 - - BASED ON 2017 CENSUS DATA ONLY \n",
    "\n",
    "c_states = ses_census_df['state_abbr']\n",
    "med_earn_F = ses_census_df['Median_female']\n",
    "med_earn_M = ses_census_df['Median_male']\n",
    "\n",
    "x_axis = np.arange(len(c_states))\n",
    "\n",
    "fig = plt.figure(figsize=(20, 5))\n",
    "ax = fig.add_subplot(111)\n",
    "\n",
    "w = 0.3\n",
    "\n",
    "women = ax.bar(x_axis-w, med_earn_F, color='gray', alpha=0.5, align='center', width = w)\n",
    "men = ax.bar(x_axis, med_earn_M, color='red', alpha=0.5, align='center', width = w)\n",
    "#ax2 = ses_mrcensus['Murder Rate'].plot(secondary_y=True, color='y')\n",
    "\n",
    "\n",
    "#ax2 = ses_state_v_sex_2017['Male Count'].plot(secondary_y=True, color='y')\n",
    "\n",
    "tick_locations = [value for value in x_axis]\n",
    "plt.xticks(tick_locations, c_states, rotation=\"vertical\")\n",
    "\n",
    "plt.xlim(-1, len(x_axis))\n",
    "\n",
    "plt.title(\"Median Earnings for Women and Men by State (2017)\")\n",
    "ax.set_xlabel(\"State\")\n",
    "ax.set_ylabel(\"Median Earnings (Inflation Adjusted Dollars)\")\n",
    "#ax2.set_ylabel(\"Murder Rate (per 100,000 people)\")\n",
    "\n",
    "#ax2.set_ylabel(\"Number of Male Homicide Victims by State\")\n",
    "plt.legend((women[0], men[0]), ('Women', 'Men'))\n",
    "\n",
    "plt.savefig(\"Images/Male_and_Female_State_Median_Earnings_2017.png\")\n"
   ]
  },
  {
   "cell_type": "code",
   "execution_count": null,
   "metadata": {
    "colab": {},
    "colab_type": "code",
    "id": "Dz57211ehxQ6",
    "outputId": "6ac7cfec-1712-497c-8ffa-979381f8e3be"
   },
   "outputs": [],
   "source": [
    "#COUNT OF HOMICIDE VICTIMS (MALE & FEMALE SIDE-BY-SIDE) WITH HOMICIDE RATE BY STATE FOR 2017 \n",
    "\n",
    "c_states = vcensus['state_abbr']\n",
    "m_count = vcensus['Male Count']\n",
    "f_count = vcensus['Female Count']\n",
    "pct_active = str(round(vcensus['Pct Active']))\n",
    "\n",
    "x_axis = np.arange(len(c_states))\n",
    "\n",
    "fig = plt.figure(figsize=(20, 5))\n",
    "ax = fig.add_subplot(111)\n",
    "\n",
    "w = 0.3\n",
    "\n",
    "women = ax.bar(x_axis-w, f_count, color='gray', alpha=0.5, align='center', width = w)\n",
    "men = ax.bar(x_axis, m_count, color='red', alpha=0.5, align='center', width = w)\n",
    "#ax2 = ses_mrcensus['Murder Rate'].plot(secondary_y=True, color='y')\n",
    "\n",
    "\n",
    "#ax2 = ses_state_v_sex_2017['Male Count'].plot(secondary_y=True, color='y')\n",
    "\n",
    "tick_locations = [value+-.04 for value in x_axis]\n",
    "plt.xticks(tick_locations, c_states, rotation=\"vertical\")\n",
    "\n",
    "plt.xlim(-1, len(x_axis))\n",
    "\n",
    "plt.title(\"Female and Male Homicide Victims by State (2017)\")\n",
    "ax.set_xlabel(\"State\")\n",
    "ax.set_ylabel(\"Number of Victims\")\n",
    "#ax2.set_ylabel(\"Homicide Rate (per 100,000 people)\")\n",
    "\n",
    "#ax2.set_ylabel(\"Number of Male Homicide Victims by State\")\n",
    "\n",
    "plt.legend((women[0], men[0]), ('Women', 'Men'))\n",
    "\n",
    "plt.savefig(\"Images/Male_and_Female_State_Homicide_Victims.png\")\n"
   ]
  },
  {
   "cell_type": "code",
   "execution_count": null,
   "metadata": {
    "colab": {},
    "colab_type": "code",
    "id": "dn0yzWmHhxQ-",
    "outputId": "dcfb44f4-8f8d-4af1-e0cc-78f005f35aa7"
   },
   "outputs": [],
   "source": [
    "#COUNT OF HOMICIDE VICTIMS (MALE & FEMALE SIDE-BY-SIDE) BY STATE FOR 2017 \n",
    "\n",
    "c_states = vcensus['state_abbr']\n",
    "m_count = vcensus['Male Count']\n",
    "f_count = vcensus['Female Count']\n",
    "pct_active = str(round(vcensus['Pct Active']))\n",
    "mrate = ses_mrcensus['Murder Rate']\n",
    "\n",
    "x_axis = np.arange(len(c_states))\n",
    "\n",
    "fig = plt.figure(figsize=(20, 5))\n",
    "ax = fig.add_subplot(111)\n",
    "\n",
    "w = 0.3\n",
    "\n",
    "women = ax.bar(x_axis-w, f_count, color='gray', alpha=0.5, align='center', width = w)\n",
    "men = ax.bar(x_axis, m_count, color='red', alpha=0.5, align='center', width = w)\n",
    "ax2 = mrate.plot(secondary_y=True, color='g')\n",
    "\n",
    "\n",
    "#ax2 = ses_state_v_sex_2017['Male Count'].plot(secondary_y=True, color='y')\n",
    "\n",
    "tick_locations = [value+-.04 for value in x_axis]\n",
    "plt.xticks(tick_locations, c_states, rotation=\"vertical\")\n",
    "\n",
    "plt.xlim(-1, len(x_axis))\n",
    "\n",
    "plt.title(\"Female and Male Homicide Victims by State (2017)\")\n",
    "ax.set_xlabel(\"State\")\n",
    "ax.set_ylabel(\"Number of Victims\")\n",
    "ax2.set_ylabel(\"Homicide Rate (per 100,000 people)\")\n",
    "\n",
    "#ax2.set_ylabel(\"Number of Male Homicide Victims by State\")\n",
    "\n",
    "plt.legend((women[0], men[0]), ('Women', 'Men'))\n",
    "\n",
    "plt.savefig(\"Images/Male_and_Female_State_Homicide_Victims_wHomicideRate.png\")\n"
   ]
  },
  {
   "cell_type": "code",
   "execution_count": null,
   "metadata": {
    "colab": {},
    "colab_type": "code",
    "id": "NaOqPt_ChxRC",
    "outputId": "0ee8e86a-1863-4043-c24f-c387281feb92"
   },
   "outputs": [],
   "source": [
    "#PERCENTAGE OF 18+ POPULATION LIVING BELOW POVERTY LEVEL - BASED ON 2017 CENSUS DATA ONLY \n",
    "c_states = ses_census_df['state_abbr']\n",
    "pop_pov = ses_census_df['Pct_Pov_pop_all18']\n",
    "x_axis = np.arange(len(c_states))\n",
    "\n",
    "plt.figure(figsize=(20, 5))\n",
    "plt.bar(x_axis, pop_pov, color='gray', alpha=0.5, align='center')\n",
    "\n",
    "tick_locations = [value for value in x_axis]\n",
    "plt.xticks(tick_locations, c_states, rotation=\"vertical\")\n",
    "\n",
    "plt.xlim(-1, len(x_axis))\n",
    "\n",
    "plt.title(\"Percentage of 18+ Population Living Under Poverty Level\")\n",
    "plt.xlabel(\"State\")\n",
    "plt.ylabel(\"Percent\")\n",
    "\n",
    "plt.savefig(\"Images/Pct_Poverty_2017.png\")"
   ]
  },
  {
   "cell_type": "code",
   "execution_count": null,
   "metadata": {
    "colab": {},
    "colab_type": "code",
    "id": "Pqv40VhBhxRF",
    "outputId": "b29a9a1b-8abf-48b1-db01-b476f0b7870e"
   },
   "outputs": [],
   "source": [
    "#INDEPENDENT SAMPLES T-Test:  Male and Female Homicide Victims \n",
    "#Question:  Are the differences in the number of male vs female homicide victims statistically significant?\n",
    "#Null Hypothesis:  No statistically significant difference between both groups\n",
    "\n",
    "#Analysis:  There is something happening that can't be explained by chance, that tells us why men and women are \n",
    "#killed in different numbers. Since men are killed in higher numbers than women, we can say with some confidence\n",
    "#that being a man will lead to a greater chance of death by homicide.  \n",
    "\n",
    "\n",
    "m_count = vcensus['Male Count']\n",
    "f_count = vcensus['Female Count']\n",
    "\n",
    "def independent_ttest(data1, data2, alpha):\n",
    "    # calculate means\n",
    "    mean1, mean2 = mean(data1), mean(data2)\n",
    "    # calculate standard errors\n",
    "    se1, se2 = sem(data1), sem(data2)\n",
    "    # standard error on the difference between the samples\n",
    "    sed = sqrt(se1**2.0 + se2**2.0)\n",
    "    # calculate the t statistic\n",
    "    t_stat = (mean1 - mean2) / sed\n",
    "    # degrees of freedom\n",
    "    df = len(data1) + len(data2) - 2\n",
    "    # calculate the critical value\n",
    "    cv = t.ppf(1.0 - alpha, df)\n",
    "    # calculate the p-value\n",
    "    p = (1.0 - t.cdf(abs(t_stat), df)) * 2.0\n",
    "    # return everything\n",
    "    return sed, t_stat, df, cv, p\n",
    " \n",
    "# identify two independent samples\n",
    "data1 = m_count\n",
    "data2 = f_count\n",
    "\n",
    "# calculate the t test\n",
    "alpha = 0.05\n",
    "sed, t_stat, df, cv, p = independent_ttest(data1, data2, alpha)\n",
    "print('t=%.3f, df=%d, cv=%.3f, p=%.3f' % (t_stat, df, cv, p))\n",
    "\n",
    "# interpret via critical value\n",
    "if abs(t_stat) <= cv:\n",
    "    print('Accept null hypothesis that the means are equal.')\n",
    "else:\n",
    "    print('Reject the null hypothesis that the means are equal.')\n",
    "    \n",
    "# interpret via p-value\n",
    "if p > alpha:\n",
    "    print('Accept null hypothesis that the means are equal.')\n",
    "else:\n",
    "    print('Reject the null hypothesis that the means are equal.')\n",
    "\n",
    "print(f'sed={sed}')"
   ]
  },
  {
   "cell_type": "code",
   "execution_count": null,
   "metadata": {
    "colab": {},
    "colab_type": "code",
    "id": "oSSBowdWhxRH",
    "outputId": "380869ff-2e2c-45e1-c070-709a8429fd24"
   },
   "outputs": [],
   "source": [
    "#MEDIAN EARNINGS BY STATE FOR 2017 with MURDER RATE BY STATE - - BASED ON 2017 CENSUS DATA ONLY \n",
    "c_states = ses_mrcensus['state_abbr']\n",
    "median_income = ses_mrcensus['Total_median_income']\n",
    "mrate = ses_mrcensus['Murder Rate']\n",
    "\n",
    "x_axis = np.arange(len(c_states))\n",
    "\n",
    "fig = plt.figure(figsize=(20, 5))\n",
    "ax = fig.add_subplot(111)\n",
    "\n",
    "ax.bar(x_axis, median_income, color='gray', alpha=0.5, align='center')\n",
    "ax2 = ses_mrcensus['Murder Rate'].plot(secondary_y=True, color='r')\n",
    "\n",
    "tick_locations = [value for value in x_axis]\n",
    "plt.xticks(tick_locations, c_states, rotation=\"vertical\")\n",
    "\n",
    "plt.xlim(-1, len(x_axis))\n",
    "\n",
    "\n",
    "plt.title(\"Median Income and Homicide Rate by State (2017)\")\n",
    "ax.set_xlabel(\"State\")\n",
    "ax.set_ylabel(\"Median Income (Inflation Adjusted Dollars)\")\n",
    "ax2.set_ylabel(\"Murder Rate (per 100,000 people)\")\n",
    "\n",
    "plt.savefig(\"Images/Median_Income_and_Murder_Rate_2017.png\")"
   ]
  },
  {
   "cell_type": "code",
   "execution_count": null,
   "metadata": {
    "colab": {},
    "colab_type": "code",
    "id": "oQny7YFMhxRN",
    "outputId": "bbca7247-4e25-438e-b3c7-05ec89313a1c"
   },
   "outputs": [],
   "source": [
    "#RELATIONSHIP BETWEEN HOMICIDE VICTIMS (WOMEN) AND UNEMPLOYED POPULATION (WOMEN)\n",
    "\n",
    "#New DataFrame will all the info I need\n",
    "ses_state_v_sex_2017 = ses_state_v_sex_2017.rename(columns={'State': 'state_abbr'})\n",
    "\n",
    "vcensus = pd.merge(ses_state_v_sex_2017, ses_census_df, on='state_abbr')\n",
    "vcensus = pd.merge(agency_df, vcensus, on='state_abbr')\n",
    "vcensus['Emp_pop_Male'] = vcensus['Emp_pop_all'] - vcensus['Emp_pop_Female']\n",
    "vcensus['Emp_pop_Male_Pct'] = (vcensus['Emp_pop_Male']/vcensus['Emp_pop_all'])*100\n",
    "vcensus['Emp_pop_Female_Pct'] = (vcensus['Emp_pop_Female']/vcensus['Emp_pop_all'])*100\n",
    "\n",
    "#m_count = vcensus['Male Count']\n",
    "#f_count = vcensus['Female Count']\n",
    "#pct_pov = vcensus['Pct_Pov_pop_all18']\n",
    "\n",
    "f_count = vcensus['Female Count']\n",
    "u_f = vcensus['Emp_pop_Female_Pct'] \n",
    "state_weight = vcensus['Pct Active']\n",
    "\n",
    "plt.figure(figsize=(10, 5))\n",
    "\n",
    "#Build the scatter plots for each city types\n",
    "#plt.scatter(f_count, pct_pov, marker=\"o\", facecolors=\"gray\", edgecolors=\"black\", alpha=1,  s=state_weight*5, label='Women') \n",
    "#plt.scatter(m_count, pct_pov, marker=\"o\", facecolors=\"red\", edgecolors=\"black\", alpha=0.75, s=state_weight*5, label='Men') \n",
    "plt.scatter(m_count, u_f, marker=\"o\", facecolors=\"gray\", edgecolors=\"black\", alpha=0.75, s=state_weight*5, label='Women') \n",
    "\n",
    "\n",
    "#Incorporate the other graph properties\n",
    "plt.grid()\n",
    "plt.xlim(-10, 500)\n",
    "\n",
    "plt.xlabel(\"Number of Homicide Victims per State (WOMEN ONLY)\")\n",
    "plt.ylabel(\"Unemployed Population (WOMEN ONLY)\")\n",
    "plt.title(\"Relationship Between Homicide Victims (Women) and Unemployed Population (WOMEN) (2017)\")\n",
    "\n",
    "#Create a legend\n",
    "legend = plt.legend(fontsize = 8, loc=\"best\") \n",
    "legend.legendHandles[0]._sizes = [35]\n",
    "#legend.legendHandles[1]._sizes = [35]\n",
    "\n",
    "\n",
    "#Incorporate a text label regarding circle size\n",
    "#plt.text(100,3,\"Note: \\nCircle size correlates with number of agencies reporting per state\", fontsize = 10)\n",
    "\n",
    "#Save Figure\n",
    "plt.savefig(\"Images/Scatter_Unemployment_Homicide_2017_WOMEN.png\", bbox_inches = 'tight')\n",
    "\n",
    "plt.show()"
   ]
  },
  {
   "cell_type": "code",
   "execution_count": null,
   "metadata": {
    "colab": {},
    "colab_type": "code",
    "id": "qLp1gnqIhxRT",
    "outputId": "f5997952-815b-4102-d7a3-a6bf70a33c86"
   },
   "outputs": [],
   "source": [
    "#vcensus['Total_median_income'] = vcensus['Total_median_income_x'] + vcensus['Total_median_income_y']\n",
    "vcensus = pd.merge(ses_state_v_sex_2017, ses_census_df, on='state_abbr')\n",
    "vcensus = pd.merge(agency_df, vcensus, on='state_abbr')\n"
   ]
  },
  {
   "cell_type": "markdown",
   "metadata": {
    "colab_type": "text",
    "id": "h6ujbyvkhxRa"
   },
   "source": [
    "## Filter years to 2007-2017"
   ]
  },
  {
   "cell_type": "code",
   "execution_count": null,
   "metadata": {
    "colab": {},
    "colab_type": "code",
    "id": "J-16rNWfhxRa",
    "outputId": "e540a47f-8179-466f-f2c3-7750c609553d"
   },
   "outputs": [],
   "source": [
    "#Change to numeric\n",
    "relDF_base[\"Year\"] = pd.to_numeric(relDF_base[\"Year\"])\n",
    "relDF_base[\"Acquaintance\"] = pd.to_numeric(relDF_base[\"Acquaintance\"])\n",
    "relDF_base[\"Babysittee\"] = pd.to_numeric(relDF_base[\"Babysittee\"])\n",
    "relDF_base[\"Boyfriend or Girlfriend\"] = pd.to_numeric(relDF_base[\"Boyfriend or Girlfriend\"])\n",
    "relDF_base[\"Child of Boyfriend or Girlfriend\"] = pd.to_numeric(relDF_base[\"Child of Boyfriend or Girlfriend\"])\n",
    "relDF_base[\"Child\"] = pd.to_numeric(relDF_base[\"Child\"])\n",
    "relDF_base[\"Common Law Spouse\"] = pd.to_numeric(relDF_base[\"Common Law Spouse\"])\n",
    "relDF_base[\"Employee\"] = pd.to_numeric(relDF_base[\"Employee\"])\n",
    "relDF_base[\"Employer\"] = pd.to_numeric(relDF_base[\"Employer\"])\n",
    "relDF_base[\"Friend\"] = pd.to_numeric(relDF_base[\"Friend\"])\n",
    "relDF_base[\"Grandchild\"] = pd.to_numeric(relDF_base[\"Grandchild\"])\n",
    "relDF_base[\"Grandparent\"] = pd.to_numeric(relDF_base[\"Grandparent\"])\n",
    "relDF_base[\"Homosexual Relationship\"] = pd.to_numeric(relDF_base[\"Homosexual Relationship\"])\n",
    "relDF_base[\"In-Law\"] = pd.to_numeric(relDF_base[\"In-Law\"])\n",
    "relDF_base[\"Neighbor\"] = pd.to_numeric(relDF_base[\"Neighbor\"])\n",
    "relDF_base[\"Other Family Member\"] = pd.to_numeric(relDF_base[\"Other Family Member\"])\n",
    "relDF_base[\"Otherwise Known\"] = pd.to_numeric(relDF_base[\"Otherwise Known\"])\n",
    "relDF_base[\"Parent\"] = pd.to_numeric(relDF_base[\"Parent\"])\n",
    "relDF_base[\"Unknown\"] = pd.to_numeric(relDF_base[\"Unknown\"])\n",
    "relDF_base[\"Sibling\"] = pd.to_numeric(relDF_base[\"Sibling\"])\n",
    "relDF_base[\"Stepchild\"] = pd.to_numeric(relDF_base[\"Stepchild\"])\n",
    "relDF_base[\"Spouse\"] = pd.to_numeric(relDF_base[\"Spouse\"])\n",
    "relDF_base[\"Stepparent\"] = pd.to_numeric(relDF_base[\"Stepparent\"])\n",
    "relDF_base[\"Stepsibling\"] = pd.to_numeric(relDF_base[\"Stepsibling\"])\n",
    "relDF_base[\"Stranger\"] = pd.to_numeric(relDF_base[\"Stranger\"])\n",
    "relDF_base[\"Offender\"] = pd.to_numeric(relDF_base[\"Offender\"])\n",
    "relDF_base[\"Ex-Spouse\"] = pd.to_numeric(relDF_base[\"Ex-Spouse\"])\n",
    "\n",
    "#Filter to years 2007-2017 - ORIGINAL\n",
    "##relDF_base[\"Year\"] = pd.to_numeric(relDF_base[\"Year\"])\n",
    "relDF = relDF_base.loc[(relDF_base[\"Year\"] >= 2007) & (relDF_base[\"Year\"] <= 2017), :]\n",
    "\n",
    "#Reset the index\n",
    "relDF = relDF.reset_index()\n",
    "relDF = relDF.drop(axis=1, columns=[\"index\"])\n",
    "\n",
    "#Print to CSV\n",
    "relDF.to_csv(\"Data/RelationshipDataFrame.csv\", index=False, header=True) \n",
    "    \n",
    "#Check dataframe:\n",
    "relDF.head(10)"
   ]
  },
  {
   "cell_type": "markdown",
   "metadata": {
    "colab_type": "text",
    "id": "ALgxhXQ4hxRd"
   },
   "source": [
    "<font color=blue>\n",
    "\n",
    "## STACKED BAR: ALL RELATIONSHIPS 2007-2017 BY STATE"
   ]
  },
  {
   "cell_type": "markdown",
   "metadata": {
    "colab_type": "text",
    "id": "iYbszHhxhxRe"
   },
   "source": [
    "#### Grouped By State, Sum Years for Each State, Add Total Column"
   ]
  },
  {
   "cell_type": "code",
   "execution_count": null,
   "metadata": {
    "colab": {},
    "colab_type": "code",
    "id": "T8sheOAfhxRf"
   },
   "outputs": [],
   "source": [
    "#Group by state:\n",
    "grouprelDFState = relDF.groupby([\"State\"]).sum()\n",
    "\n",
    "#Drop year and \"unknown\":\n",
    "relStatePercDF = grouprelDFState.drop(axis=1, columns=[\"Year\", \"Unknown\"])\n",
    "\n",
    "col_list= list(relStatePercDF)\n",
    "col_list\n",
    "\n",
    "relStatePercDF['Total Homicides'] = relStatePercDF[col_list].sum(axis=1)"
   ]
  },
  {
   "cell_type": "markdown",
   "metadata": {
    "colab_type": "text",
    "id": "VBIzZnO_hxRg"
   },
   "source": [
    "#### Change DF to Percentages (relStatePercDF)"
   ]
  },
  {
   "cell_type": "code",
   "execution_count": null,
   "metadata": {
    "colab": {},
    "colab_type": "code",
    "id": "Gsr9NpUNhxRg",
    "outputId": "59da7426-9d0f-4570-e94d-c7e943597c16"
   },
   "outputs": [],
   "source": [
    "relStatePercDF[\"Acquaintance\"] = (relStatePercDF[\"Acquaintance\"] / relStatePercDF[\"Total Homicides\"]) * 100\n",
    "relStatePercDF[\"Babysittee\"] = (relStatePercDF[\"Babysittee\"] / relStatePercDF[\"Total Homicides\"]) * 100\n",
    "relStatePercDF[\"Boyfriend or Girlfriend\"] = (relStatePercDF[\"Boyfriend or Girlfriend\"] / relStatePercDF[\"Total Homicides\"]) * 100\n",
    "relStatePercDF[\"Child of Boyfriend or Girlfriend\"] = (relStatePercDF[\"Child of Boyfriend or Girlfriend\"] / relStatePercDF[\"Total Homicides\"]) * 100\n",
    "relStatePercDF[\"Child\"] = (relStatePercDF[\"Child\"] / relStatePercDF[\"Total Homicides\"]) * 100\n",
    "relStatePercDF[\"Common Law Spouse\"] = (relStatePercDF[\"Common Law Spouse\"] / relStatePercDF[\"Total Homicides\"]) * 100\n",
    "relStatePercDF[\"Employee\"] = (relStatePercDF[\"Employee\"] / relStatePercDF[\"Total Homicides\"]) * 100\n",
    "relStatePercDF[\"Employer\"] = (relStatePercDF[\"Employer\"] / relStatePercDF[\"Total Homicides\"]) * 100\n",
    "relStatePercDF[\"Friend\"] = (relStatePercDF[\"Friend\"] / relStatePercDF[\"Total Homicides\"]) * 100\n",
    "relStatePercDF[\"Grandchild\"] = (relStatePercDF[\"Grandchild\"] / relStatePercDF[\"Total Homicides\"]) * 100\n",
    "relStatePercDF[\"Grandparent\"] = (relStatePercDF[\"Grandparent\"] / relStatePercDF[\"Total Homicides\"]) * 100\n",
    "relStatePercDF[\"Homosexual Relationship\"] = (relStatePercDF[\"Homosexual Relationship\"] / relStatePercDF[\"Total Homicides\"]) * 100\n",
    "relStatePercDF[\"In-Law\"] = (relStatePercDF[\"In-Law\"] / relStatePercDF[\"Total Homicides\"]) * 100\n",
    "relStatePercDF[\"Neighbor\"] = (relStatePercDF[\"Neighbor\"] / relStatePercDF[\"Total Homicides\"]) * 100\n",
    "relStatePercDF[\"Other Family Member\"] = (relStatePercDF[\"Other Family Member\"] / relStatePercDF[\"Total Homicides\"]) * 100\n",
    "relStatePercDF[\"Otherwise Known\"] = (relStatePercDF[\"Otherwise Known\"] / relStatePercDF[\"Total Homicides\"]) * 100\n",
    "relStatePercDF[\"Parent\"] = (relStatePercDF[\"Parent\"] / relStatePercDF[\"Total Homicides\"]) * 100\n",
    "#relStatePercDF[\"Unknown\"] = (relStatePercDF[\"Unknown\"] / relStatePercDF[\"Total Homicides\"]) * 100\n",
    "relStatePercDF[\"Sibling\"] = (relStatePercDF[\"Sibling\"] / relStatePercDF[\"Total Homicides\"]) * 100\n",
    "relStatePercDF[\"Stepchild\"] = (relStatePercDF[\"Stepchild\"] / relStatePercDF[\"Total Homicides\"]) * 100\n",
    "relStatePercDF[\"Spouse\"] = (relStatePercDF[\"Spouse\"] / relStatePercDF[\"Total Homicides\"]) * 100\n",
    "relStatePercDF[\"Stepparent\"] = (relStatePercDF[\"Stepparent\"] / relStatePercDF[\"Total Homicides\"]) * 100\n",
    "relStatePercDF[\"Stepsibling\"] = (relStatePercDF[\"Stepsibling\"] / relStatePercDF[\"Total Homicides\"]) * 100\n",
    "relStatePercDF[\"Stranger\"] = (relStatePercDF[\"Stranger\"] / relStatePercDF[\"Total Homicides\"]) * 100\n",
    "relStatePercDF[\"Offender\"] = (relStatePercDF[\"Offender\"] / relStatePercDF[\"Total Homicides\"]) * 100\n",
    "relStatePercDF[\"Ex-Spouse\"] = (relStatePercDF[\"Ex-Spouse\"] / relStatePercDF[\"Total Homicides\"]) * 100\n",
    "\n",
    "relStatePercDF.to_csv(\"Data/StackedBarDataframe.csv\", index=False, header=True) \n",
    "\n",
    "relStatePercDF.head()"
   ]
  },
  {
   "cell_type": "markdown",
   "metadata": {
    "colab_type": "text",
    "id": "IZ3OIBzWhxRi"
   },
   "source": [
    "#### Stacked Bar Chart"
   ]
  },
  {
   "cell_type": "code",
   "execution_count": null,
   "metadata": {
    "colab": {},
    "colab_type": "code",
    "id": "bUjpMs6dhxRi",
    "outputId": "8c06c09b-d251-4167-ccf2-16e482d1ce7e"
   },
   "outputs": [],
   "source": [
    "#Drop the Total Homicides column so it isn't included in the chart\n",
    "relStatePercDFNoTotal = relStatePercDF.drop(axis=1, columns=[\"Total Homicides\"])\n",
    "\n",
    "#Plot stacked bar chart\n",
    "relStatePercDFNoTotal.plot(kind='bar',\n",
    "                           stacked=True, \n",
    "                           figsize=(30,10),\n",
    "                           rot=0\n",
    "                           )\n",
    "plt.title(\"Relationship of Victim to Offender (2007-2017)\", fontsize=24, ha='center')\n",
    "plt.legend(loc='center left', bbox_to_anchor=(1.0, 0.5), title=\"Relationship Type\")\n",
    "plt.xlabel(\"State\")\n",
    "plt.ylabel(\"Percentage of Total Homicides\")\n",
    "plt.yticks(np.arange(0, 101, 10))\n",
    "plt.figtext(0.1, .08, \"Source: FBI Crime Data API: https://crime-data-explorer.fr.cloud.gov/api\",\\\n",
    "            horizontalalignment=\"left\", \\\n",
    "            verticalalignment=\"top\", fontsize=12, color=\"#555555\")\n",
    "\n",
    "#Save image\n",
    "plt.savefig(\"Images/StackedBar_RelPctsState.png\", dpi=300)"
   ]
  },
  {
   "cell_type": "markdown",
   "metadata": {
    "colab_type": "text",
    "id": "r86RUkAbhxRk"
   },
   "source": [
    "<font color=blue>\n",
    "\n",
    "## LINE CHART: TOTAL HOMICIDES 2007-2017 (ALL)"
   ]
  },
  {
   "cell_type": "markdown",
   "metadata": {
    "colab_type": "text",
    "id": "95j4MXzLhxRk"
   },
   "source": [
    "#### Created DF (groupedYear)"
   ]
  },
  {
   "cell_type": "code",
   "execution_count": null,
   "metadata": {
    "colab": {},
    "colab_type": "code",
    "id": "eV7RZVJxhxRl"
   },
   "outputs": [],
   "source": [
    "groupedYear = relDF.groupby([\"Year\"]).sum()\n",
    "groupedYear = groupedYear.drop(axis=1, columns=[\"Unknown\"])\n",
    "groupedYear.to_csv(\"Data/LineChartDataAll.csv\", index=False, header=True)"
   ]
  },
  {
   "cell_type": "markdown",
   "metadata": {
    "colab_type": "text",
    "id": "roRwgRvwhxRm"
   },
   "source": [
    "#### Create Line Chart"
   ]
  },
  {
   "cell_type": "code",
   "execution_count": null,
   "metadata": {
    "colab": {},
    "colab_type": "code",
    "id": "z0ncadj4hxRm",
    "outputId": "76270d31-aca4-4b71-c3f5-b11d0d9e9255"
   },
   "outputs": [],
   "source": [
    "#Plot line chart\n",
    "groupedYear.plot.line(figsize=(20,10))\n",
    "\n",
    "plt.title(\"Total Homicides by Relationship of Victim to Offender: 2007-2017\", fontsize=24, ha='center')\n",
    "plt.legend(loc='center left', bbox_to_anchor=(1.0, 0.5), title=\"Relationship Type\")\n",
    "plt.xlabel(\"Year\")\n",
    "plt.ylabel(\"Total Homicides\")\n",
    "plt.xticks(np.arange(2007, 2018, 1.0))\n",
    "plt.grid()\n",
    "plt.figtext(0.1, .08, \"Source: FBI Crime Data API: https://crime-data-explorer.fr.cloud.gov/api\",\\\n",
    "            horizontalalignment=\"left\", \\\n",
    "            verticalalignment=\"top\", fontsize=12, color=\"#555555\")\n",
    "\n",
    "#Save image\n",
    "plt.savefig(\"Images/Line_TotalHomicidesYearsAll.png\", dpi=300)"
   ]
  },
  {
   "cell_type": "markdown",
   "metadata": {
    "colab_type": "text",
    "id": "spB6StZghxRp"
   },
   "source": [
    "<font color=blue>\n",
    "\n",
    "## LINE CHART: TOTAL HOMICIDES 2007-2017 (GROUPS)"
   ]
  },
  {
   "cell_type": "markdown",
   "metadata": {
    "colab_type": "text",
    "id": "IVWVLIjVhxRp"
   },
   "source": [
    "#### Create DF (groupedYearConsolidated)"
   ]
  },
  {
   "cell_type": "code",
   "execution_count": null,
   "metadata": {
    "colab": {},
    "colab_type": "code",
    "id": "incw83YBhxRp",
    "outputId": "8e79364c-5053-4f11-d023-14c962b7cad9"
   },
   "outputs": [],
   "source": [
    "groupedYear[\"Friend\"] = groupedYear[\"Acquaintance\"] + \\\n",
    "                        groupedYear[\"Friend\"] + \\\n",
    "                        groupedYear[\"Neighbor\"]\n",
    "                        \n",
    "groupedYear[\"Professional\"] = groupedYear[\"Babysittee\"] + \\\n",
    "                              groupedYear[\"Employee\"] + \\\n",
    "                              groupedYear[\"Employer\"]\n",
    "                        \n",
    "groupedYear[\"Intimate Partner\"] = groupedYear[\"Boyfriend or Girlfriend\"] + \\\n",
    "                                  groupedYear[\"Common Law Spouse\"] + \\\n",
    "                                  groupedYear[\"Spouse\"] + \\\n",
    "                                  groupedYear[\"Ex-Spouse\"] + \\\n",
    "                                  groupedYear[\"Homosexual Relationship\"]\n",
    "\n",
    "groupedYear[\"Family\"] = groupedYear[\"Child\"] + \\\n",
    "                        groupedYear[\"Child of Boyfriend or Girlfriend\"] + \\\n",
    "                        groupedYear[\"Parent\"] + \\\n",
    "                        groupedYear[\"Sibling\"] + \\\n",
    "                        groupedYear[\"Stepchild\"] + \\\n",
    "                        groupedYear[\"Stepparent\"] + \\\n",
    "                        groupedYear[\"Stepsibling\"] + \\\n",
    "                        groupedYear[\"Grandchild\"] + \\\n",
    "                        groupedYear[\"Grandparent\"] + \\\n",
    "                        groupedYear[\"In-Law\"] + \\\n",
    "                        groupedYear[\"Other Family Member\"]\n",
    "\n",
    "groupedYear[\"Not Related\"] = groupedYear[\"Otherwise Known\"] + \\\n",
    "                             groupedYear[\"Stranger\"] + \\\n",
    "                             groupedYear[\"Offender\"]\n",
    "\n",
    "groupedYearConsolidated = groupedYear[[\"Intimate Partner\", \n",
    "                                       \"Family\", \n",
    "                                       \"Friend\", \n",
    "                                       \"Professional\",\n",
    "                                       \"Not Related\"]]\n",
    "\n",
    "groupedYearConsolidated.to_csv(\"Data/LineChartDataCategories.csv\", index=False, header=True)\n",
    "\n",
    "groupedYearConsolidated.head()"
   ]
  },
  {
   "cell_type": "markdown",
   "metadata": {
    "colab_type": "text",
    "id": "U8OtcE5BhxRt"
   },
   "source": [
    "#### Create Line Chart"
   ]
  },
  {
   "cell_type": "code",
   "execution_count": null,
   "metadata": {
    "colab": {},
    "colab_type": "code",
    "id": "wUiwdbYDhxRu",
    "outputId": "fde43c46-4acb-4022-d498-7e3f7a72b2fd"
   },
   "outputs": [],
   "source": [
    "groupedYearConsolidated.plot.line(figsize=(20,10))\n",
    "\n",
    "plt.title(\"Total Homicides by Consolidated Relationship of Victim to Offender: 2007-2017 (Grouped)\", fontsize=24, ha='center')\n",
    "plt.legend(loc='center left', bbox_to_anchor=(1.0, 0.5), title=\"Relationship Type\")\n",
    "plt.xlabel(\"Year\")\n",
    "plt.ylabel(\"Total Homicides\")\n",
    "plt.xticks(np.arange(2007, 2018, 1.0))\n",
    "plt.grid()\n",
    "plt.figtext(0.1, .08, \"Source: FBI Crime Data API: https://crime-data-explorer.fr.cloud.gov/api\",\\\n",
    "            horizontalalignment=\"left\", \\\n",
    "            verticalalignment=\"top\", fontsize=12, color=\"#555555\")\n",
    "\n",
    "#Save image\n",
    "plt.savefig(\"Images/Line_TotalHomicidesYearsCategories.png\", dpi=300)"
   ]
  },
  {
   "cell_type": "markdown",
   "metadata": {
    "colab_type": "text",
    "id": "jdrF71XwhxRx"
   },
   "source": [
    "<font color=blue>\n",
    "\n",
    "## CHOROPLETH MAPS: HOMICIDES BY GROUPED TYPE 2007-2017"
   ]
  },
  {
   "cell_type": "markdown",
   "metadata": {
    "colab_type": "text",
    "id": "aAYkV0xehxRy"
   },
   "source": [
    "#### Import Geopandas and Matplotlib"
   ]
  },
  {
   "cell_type": "code",
   "execution_count": null,
   "metadata": {
    "colab": {},
    "colab_type": "code",
    "id": "vodX86TlhxRy"
   },
   "outputs": [],
   "source": [
    "import geopandas as gpd\n",
    "import matplotlib.pyplot as plt"
   ]
  },
  {
   "cell_type": "markdown",
   "metadata": {
    "colab_type": "text",
    "id": "3thPkHkphxR0"
   },
   "source": [
    "#### Import shapefile for US States"
   ]
  },
  {
   "cell_type": "code",
   "execution_count": null,
   "metadata": {
    "colab": {},
    "colab_type": "code",
    "id": "OV5uykUvhxR0",
    "outputId": "55b4fd63-0005-4a9f-c347-e57493cf2ff0"
   },
   "outputs": [],
   "source": [
    "# Set the filepath and load in a shapefile\n",
    "fp = \"Resources/tl_2018_us_state/tl_2018_us_state.shp\"\n",
    "map_df = gpd.read_file(fp)\n",
    "\n",
    "# Drop everything except continental states\n",
    "map_df = map_df.loc[map_df[\"NAME\"] != \"Commonwealth of the Northern Mariana Islands\", :]\n",
    "map_df = map_df.loc[map_df[\"NAME\"] != \"Guam\", :]\n",
    "map_df = map_df.loc[map_df[\"NAME\"] != \"American Samoa\", :]\n",
    "map_df = map_df.loc[map_df[\"NAME\"] != \"Puerto Rico\", :]\n",
    "map_df = map_df.loc[map_df[\"NAME\"] != \"Hawaii\", :]\n",
    "map_df = map_df.loc[map_df[\"NAME\"] != \"Alaska\", :]\n",
    "map_df = map_df.loc[map_df[\"NAME\"] != \"United States Virgin Islands\", :]\n",
    "map_df = map_df.reset_index()\n",
    "map_df.head()"
   ]
  },
  {
   "cell_type": "markdown",
   "metadata": {
    "colab_type": "text",
    "id": "a0AFoiLRhxR2"
   },
   "source": [
    "#### Group Categories"
   ]
  },
  {
   "cell_type": "code",
   "execution_count": null,
   "metadata": {
    "colab": {},
    "colab_type": "code",
    "id": "TD9vt2FIhxR3"
   },
   "outputs": [],
   "source": [
    "relDF[\"Friend\"] = relDF[\"Acquaintance\"] + \\\n",
    "                  relDF[\"Friend\"] + \\\n",
    "                  relDF[\"Neighbor\"]\n",
    "                        \n",
    "relDF[\"Professional\"] = relDF[\"Babysittee\"] + \\\n",
    "                        relDF[\"Employee\"] + \\\n",
    "                        relDF[\"Employer\"]\n",
    "                        \n",
    "relDF[\"Intimate Partner\"] = relDF[\"Boyfriend or Girlfriend\"] + \\\n",
    "                            relDF[\"Homosexual Relationship\"] + \\\n",
    "                            relDF[\"Spouse\"] + \\\n",
    "                            relDF[\"Ex-Spouse\"] + \\\n",
    "                            relDF[\"Common Law Spouse\"]\n",
    "\n",
    "relDF[\"Family\"] = relDF[\"Child\"] + \\\n",
    "                            relDF[\"Parent\"] + \\\n",
    "                            relDF[\"Sibling\"] + \\\n",
    "                            relDF[\"Stepchild\"] + \\\n",
    "                            relDF[\"Stepparent\"] + \\\n",
    "                            relDF[\"Stepsibling\"] + \\\n",
    "                            relDF[\"Child of Boyfriend or Girlfriend\"] + \\\n",
    "                            relDF[\"Grandchild\"] + \\\n",
    "                            relDF[\"Grandparent\"] + \\\n",
    "                            relDF[\"In-Law\"] + \\\n",
    "                            relDF[\"Other Family Member\"]\n",
    "\n",
    "relDF[\"Not Related\"] = relDF[\"Otherwise Known\"] + \\\n",
    "                       relDF[\"Stranger\"] + \\\n",
    "                       relDF[\"Offender\"]\n",
    "\n",
    "relDF2017consolidated = relDF[[\"State\",\n",
    "                               \"Year\",\n",
    "                               \"Intimate Partner\", \n",
    "                               \"Family\", \n",
    "                               \"Friend\", \n",
    "                               \"Professional\",\n",
    "                               \"Not Related\"]]"
   ]
  },
  {
   "cell_type": "markdown",
   "metadata": {
    "colab_type": "text",
    "id": "qZj0I0p9hxR4"
   },
   "source": [
    "#### Create dataframe"
   ]
  },
  {
   "cell_type": "code",
   "execution_count": null,
   "metadata": {
    "colab": {},
    "colab_type": "code",
    "id": "g5Ow4TznhxR4",
    "outputId": "5e5523ef-13d4-414d-f11a-1a1d0c1a9f52"
   },
   "outputs": [],
   "source": [
    "groupedconsolidated = relDF2017consolidated.groupby([\"State\"]).sum()\n",
    "groupedconsolidated = groupedconsolidated.drop(axis=1, columns=[\"Year\"])\n",
    "groupedconsolidated = groupedconsolidated.reset_index()\n",
    "groupedconsolidated = groupedconsolidated.rename(columns = {\"State\": \"STUSPS\"})\n",
    "groupedconsolidated.head()"
   ]
  },
  {
   "cell_type": "markdown",
   "metadata": {
    "colab_type": "text",
    "id": "hbyJjhTDhxR5"
   },
   "source": [
    "#### Merge shapefile and homicides dataframe"
   ]
  },
  {
   "cell_type": "code",
   "execution_count": null,
   "metadata": {
    "colab": {},
    "colab_type": "code",
    "id": "ETImQydVhxR6",
    "outputId": "f4074b74-4810-4eea-d1a4-d2f9148a5831"
   },
   "outputs": [],
   "source": [
    "merged = pd.merge(map_df, groupedconsolidated, on=\"STUSPS\", how=\"outer\")\n",
    "merged = merged.fillna(0)\n",
    "merged.to_csv(\"Data/ChoroplethData.csv\", index=False, header=True)\n",
    "merged.head()"
   ]
  },
  {
   "cell_type": "markdown",
   "metadata": {
    "colab_type": "text",
    "id": "iFyeOq-mhxR7"
   },
   "source": [
    "#### Choropleth: Intimate Partners"
   ]
  },
  {
   "cell_type": "code",
   "execution_count": null,
   "metadata": {
    "colab": {},
    "colab_type": "code",
    "id": "rocJMW4jhxR8",
    "outputId": "ec0645fd-1e35-4a15-ad6e-e8f49cd1f448"
   },
   "outputs": [],
   "source": [
    "#Variable to be mapped\n",
    "mapped_variable = \"Intimate Partner\"\n",
    "\n",
    "#Range for the choropleth\n",
    "vmin, vmax = 0, 650\n",
    "\n",
    "#Create figure and axes for Matplotlib\n",
    "fig, ax = plt.subplots(1, figsize=(20, 10))\n",
    "\n",
    "#Create map\n",
    "immediate_map = merged.plot(column=mapped_variable, cmap=\"GnBu\", linewidth=0.8, \\\n",
    "                            edgecolor=\"0.8\", figsize=(10, 10), ax=ax)\n",
    "\n",
    "#Remove the axis\n",
    "ax.axis(\"off\")\n",
    "\n",
    "#Set title\n",
    "ax.set_title(\"Homicides Committed by Intimate Partners\", fontsize=\"28\", y=1.5)\n",
    "\n",
    "#Create an annotation for the data source\n",
    "ax.annotate(\"Source: FBI Crime Data API: https://crime-data-explorer.fr.cloud.gov/api\",\\\n",
    "            xy=(0.1, .08),  xycoords=\"figure fraction\", horizontalalignment=\"left\", \\\n",
    "            verticalalignment=\"top\", fontsize=12, color=\"#555555\")\n",
    "\n",
    "#Create colorbar as a legend\n",
    "sm = plt.cm.ScalarMappable(cmap=\"GnBu\", norm=plt.Normalize(vmin=vmin, vmax=vmax))\n",
    "\n",
    "#Empty array for the data range\n",
    "sm._A = []\n",
    "\n",
    "#Add the colorbar to the figure\n",
    "cbar = fig.colorbar(sm)\n",
    "\n",
    "#Save\n",
    "fig.savefig(\"Images/map_intimatepartners.png\", dpi=300)"
   ]
  },
  {
   "cell_type": "markdown",
   "metadata": {
    "colab_type": "text",
    "id": "riPH20TUhxR-"
   },
   "source": [
    "#### Choropleth: Family"
   ]
  },
  {
   "cell_type": "code",
   "execution_count": null,
   "metadata": {
    "colab": {},
    "colab_type": "code",
    "id": "SGel6LAqhxR-",
    "outputId": "5e271fd4-6dcb-4a8b-9f20-622ede43e244"
   },
   "outputs": [],
   "source": [
    "#Variable to be mapped\n",
    "mapped_variable = \"Family\"\n",
    "\n",
    "#Range for the choropleth\n",
    "vmin, vmax = 0, 650\n",
    "\n",
    "#Create figure and axes for Matplotlib\n",
    "fig, ax = plt.subplots(1, figsize=(20, 10))\n",
    "\n",
    "#Create map\n",
    "immediate_map = merged.plot(column=mapped_variable, cmap=\"YlOrRd\", linewidth=0.8, \\\n",
    "                            edgecolor=\"0.8\", figsize=(10, 10), ax=ax)\n",
    "\n",
    "#Remove the axis\n",
    "ax.axis(\"off\")\n",
    "\n",
    "#Set title\n",
    "ax.set_title(\"Homicides Committed by Family\", fontsize=\"28\", y=1.5)\n",
    "\n",
    "#Create an annotation for the data source\n",
    "ax.annotate(\"Source: FBI Crime Data API: https://crime-data-explorer.fr.cloud.gov/api\",\\\n",
    "            xy=(0.1, .08),  xycoords=\"figure fraction\", horizontalalignment=\"left\", \\\n",
    "            verticalalignment=\"top\", fontsize=12, color=\"#555555\")\n",
    "\n",
    "#Create colorbar as a legend\n",
    "sm = plt.cm.ScalarMappable(cmap=\"YlOrRd\", norm=plt.Normalize(vmin=vmin, vmax=vmax))\n",
    "\n",
    "#Empty array for the data range\n",
    "sm._A = []\n",
    "\n",
    "#Add the colorbar to the figure\n",
    "cbar = fig.colorbar(sm)\n",
    "\n",
    "#Save\n",
    "fig.savefig(\"Images/map_family.png\", dpi=300)"
   ]
  },
  {
   "cell_type": "markdown",
   "metadata": {
    "colab_type": "text",
    "id": "OJnmJh74hxSD"
   },
   "source": [
    "#### Choropleth: Friends"
   ]
  },
  {
   "cell_type": "code",
   "execution_count": null,
   "metadata": {
    "colab": {},
    "colab_type": "code",
    "id": "bkJxaiI1hxSD",
    "outputId": "838ee4bd-1b9d-4273-e79b-3fcc3dc8f478"
   },
   "outputs": [],
   "source": [
    "#Variable to be mapped\n",
    "mapped_variable = \"Friend\"\n",
    "\n",
    "#Range for the choropleth\n",
    "vmin, vmax = 0, 650\n",
    "\n",
    "#Create figure and axes for Matplotlib\n",
    "fig, ax = plt.subplots(1, figsize=(20, 10))\n",
    "\n",
    "#Create map\n",
    "immediate_map = merged.plot(column=mapped_variable, cmap=\"YlGn\", linewidth=0.8, \\\n",
    "                            edgecolor=\"0.8\", figsize=(10, 10), ax=ax)\n",
    "\n",
    "#Remove the axis\n",
    "ax.axis(\"off\")\n",
    "\n",
    "#Set title\n",
    "ax.set_title(\"Homicides Committed by Friends\", fontsize=\"28\", y=1.5)\n",
    "\n",
    "#Create an annotation for the data source\n",
    "ax.annotate(\"Source: FBI Crime Data API: https://crime-data-explorer.fr.cloud.gov/api\",\\\n",
    "            xy=(0.1, .08),  xycoords=\"figure fraction\", horizontalalignment=\"left\", \\\n",
    "            verticalalignment=\"top\", fontsize=12, color=\"#555555\")\n",
    "\n",
    "#Create colorbar as a legend\n",
    "sm = plt.cm.ScalarMappable(cmap=\"YlGn\", norm=plt.Normalize(vmin=vmin, vmax=vmax))\n",
    "\n",
    "#Empty array for the data range\n",
    "sm._A = []\n",
    "\n",
    "#Add the colorbar to the figure\n",
    "cbar = fig.colorbar(sm)\n",
    "\n",
    "#Save\n",
    "fig.savefig(\"Images/map_friends.png\", dpi=300)"
   ]
  },
  {
   "cell_type": "markdown",
   "metadata": {
    "colab_type": "text",
    "id": "E883hAUIhxSI"
   },
   "source": [
    "#### Choropleth: Professional"
   ]
  },
  {
   "cell_type": "code",
   "execution_count": null,
   "metadata": {
    "colab": {},
    "colab_type": "code",
    "id": "LaAdiDxFhxSJ",
    "outputId": "18336c3a-eba1-49ce-f1fc-fb7aeed0163a"
   },
   "outputs": [],
   "source": [
    "#Variable to be mapped\n",
    "mapped_variable = \"Professional\"\n",
    "\n",
    "#Range for the choropleth\n",
    "vmin, vmax = 0, 650\n",
    "\n",
    "#Create figure and axes for Matplotlib\n",
    "fig, ax = plt.subplots(1, figsize=(20, 10))\n",
    "\n",
    "#Create map\n",
    "immediate_map = merged.plot(column=mapped_variable, cmap=\"BuPu\", linewidth=0.8, \\\n",
    "                            edgecolor=\"0.8\", figsize=(10, 10), ax=ax)\n",
    "\n",
    "#Remove the axis\n",
    "ax.axis(\"off\")\n",
    "\n",
    "#Set title\n",
    "ax.set_title(\"Homicides Committed by Professional Relationships\", fontsize=\"28\", y=1.5)\n",
    "\n",
    "#Create an annotation for the data source\n",
    "ax.annotate(\"Source: FBI Crime Data API: https://crime-data-explorer.fr.cloud.gov/api\",\\\n",
    "            xy=(0.1, .08),  xycoords=\"figure fraction\", horizontalalignment=\"left\", \\\n",
    "            verticalalignment=\"top\", fontsize=12, color=\"#555555\")\n",
    "\n",
    "#Create colorbar as a legend\n",
    "sm = plt.cm.ScalarMappable(cmap=\"BuPu\", norm=plt.Normalize(vmin=vmin, vmax=vmax))\n",
    "\n",
    "#Empty array for the data range\n",
    "sm._A = []\n",
    "\n",
    "#Add the colorbar to the figure\n",
    "cbar = fig.colorbar(sm)\n",
    "\n",
    "#Save\n",
    "fig.savefig(\"Images/map_professional.png\", dpi=300)"
   ]
  },
  {
   "cell_type": "markdown",
   "metadata": {
    "colab_type": "text",
    "id": "xhbXr-3ThxSL"
   },
   "source": [
    "#### Choropleth: Not Related"
   ]
  },
  {
   "cell_type": "code",
   "execution_count": null,
   "metadata": {
    "colab": {},
    "colab_type": "code",
    "id": "7odz2JvChxSN",
    "outputId": "5dc55da1-3ff2-4113-8628-bcb5460ebff8"
   },
   "outputs": [],
   "source": [
    "#Variable to be mapped\n",
    "mapped_variable = \"Not Related\"\n",
    "\n",
    "#Range for the choropleth\n",
    "vmin, vmax = 0, 650\n",
    "\n",
    "#Create figure and axes for Matplotlib\n",
    "fig, ax = plt.subplots(1, figsize=(20, 10))\n",
    "\n",
    "#Create map\n",
    "immediate_map = merged.plot(column=mapped_variable, cmap=\"PuRd\", linewidth=0.8, \\\n",
    "                            edgecolor=\"0.8\", figsize=(10, 10), ax=ax)\n",
    "\n",
    "#Remove the axis\n",
    "ax.axis(\"off\")\n",
    "\n",
    "#Set title\n",
    "ax.set_title(\"Homicides Committed by Unrelated Person\", fontsize=\"28\", y=1.5)\n",
    "\n",
    "#Create an annotation for the data source\n",
    "ax.annotate(\"Source: FBI Crime Data API: https://crime-data-explorer.fr.cloud.gov/api\",\\\n",
    "            xy=(0.1, .08),  xycoords=\"figure fraction\", horizontalalignment=\"left\", \\\n",
    "            verticalalignment=\"top\", fontsize=12, color=\"#555555\")\n",
    "\n",
    "#Create colorbar as a legend\n",
    "sm = plt.cm.ScalarMappable(cmap=\"PuRd\", norm=plt.Normalize(vmin=vmin, vmax=vmax))\n",
    "\n",
    "#Empty array for the data range\n",
    "sm._A = []\n",
    "\n",
    "#Add the colorbar to the figure\n",
    "cbar = fig.colorbar(sm)\n",
    "\n",
    "#Save\n",
    "fig.savefig(\"Images/map_notrelated.png\", dpi=300)"
   ]
  },
  {
   "cell_type": "code",
   "execution_count": null,
   "metadata": {
    "colab": {},
    "colab_type": "code",
    "id": "iEHzB_ObhxSP"
   },
   "outputs": [],
   "source": []
  },
  {
   "cell_type": "code",
   "execution_count": null,
   "metadata": {
    "colab": {},
    "colab_type": "code",
    "id": "idKDtPK_hxSQ"
   },
   "outputs": [],
   "source": []
  }
 ],
 "metadata": {
  "celltoolbar": "Raw Cell Format",
  "colab": {
   "name": "GROUP_2_DATA_EXPLORATION_AND_CLEANUP.ipynb",
   "provenance": [],
   "version": "0.3.2"
  },
  "kernelspec": {
   "display_name": "Python 3",
   "language": "python",
   "name": "python3"
  },
  "language_info": {
   "codemirror_mode": {
    "name": "ipython",
    "version": 3
   },
   "file_extension": ".py",
   "mimetype": "text/x-python",
   "name": "python",
   "nbconvert_exporter": "python",
   "pygments_lexer": "ipython3",
   "version": "3.7.3"
  }
 },
 "nbformat": 4,
 "nbformat_minor": 1
}
