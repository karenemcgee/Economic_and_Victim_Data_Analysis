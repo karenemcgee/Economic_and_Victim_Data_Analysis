{
 "cells": [
  {
   "cell_type": "markdown",
   "metadata": {},
   "source": [
    "## Notes\n",
    "\n",
    "#### What I'm Asking\n",
    "\n",
    "- How does the victim's relationship to their murderer vary from state to state?\n",
    "- How does it vary from region to region? MAYBE FOCUS ON REGION INSTEAD OF STATE?\n",
    "\n",
    "#### Data to Find\n",
    "\n",
    "- Find victim RELATIONSHIP data by STATE\n",
    "- Compare to victim GENDER and AGE\n",
    "- Dataframe of the max and min states for some of the data\n",
    "\n",
    "#### Charts to Create\n",
    "\n",
    "- Heat maps?\n",
    "- Bar charts for \n",
    "\n",
    "#### Questions\n",
    "\n",
    "- How many years? Just pick one?\n",
    "- Select a handful of relationships? Do all? Edit them down to create broader categories?\n",
    "\n",
    "#### Relationship Types\n",
    "- Acquaintance\n",
    "- Babysittee\n",
    "- Boyfriend/girlfriend\n",
    "- Child of boyfriend/girlfriend\n",
    "- Child\n",
    "- Common law spouse\n",
    "- Employee\n",
    "- Employer\n",
    "- Friend\n",
    "- Grandchild\n",
    "- Grandparent\n",
    "- Homosexual relationship\n",
    "- In-law\n",
    "- Neighbor\n",
    "- Other family member\n",
    "- Otherwise known\n",
    "- Parent\n",
    "- Relationship unknown\n",
    "- Sibling\n",
    "- Stepchild\n",
    "- Spouse\n",
    "- Stepparent\n",
    "- Stepsibling\n",
    "- Stranger\n",
    "- Offender\n",
    "- Ex-spouse"
   ]
  },
  {
   "cell_type": "code",
   "execution_count": null,
   "metadata": {},
   "outputs": [],
   "source": []
  }
 ],
 "metadata": {
  "kernelspec": {
   "display_name": "Python 3",
   "language": "python",
   "name": "python3"
  },
  "language_info": {
   "codemirror_mode": {
    "name": "ipython",
    "version": 3
   },
   "file_extension": ".py",
   "mimetype": "text/x-python",
   "name": "python",
   "nbconvert_exporter": "python",
   "pygments_lexer": "ipython3",
   "version": "3.7.3"
  }
 },
 "nbformat": 4,
 "nbformat_minor": 2
}
