{
 "cells": [
  {
   "cell_type": "code",
   "execution_count": 2,
   "metadata": {},
   "outputs": [],
   "source": [
    "#Description:\n",
    "#   Initial and simple analysis of FBI Crime Data prior to 7/11 class\n",
    "#   victim-data-controller : Endpoints pertaining to NIBRS Victim Demographic data (STATE)\n",
    "#\n",
    "#Modification History:\n",
    "#   DD-MMM-YYY  Author          Description\n",
    "#   10-07-2019  Stacey Smith    INITIAL CREATION\n"
   ]
  },
  {
   "cell_type": "code",
   "execution_count": 3,
   "metadata": {},
   "outputs": [
    {
     "data": {
      "text/html": [
       "<div>\n",
       "<style scoped>\n",
       "    .dataframe tbody tr th:only-of-type {\n",
       "        vertical-align: middle;\n",
       "    }\n",
       "\n",
       "    .dataframe tbody tr th {\n",
       "        vertical-align: top;\n",
       "    }\n",
       "\n",
       "    .dataframe thead th {\n",
       "        text-align: right;\n",
       "    }\n",
       "</style>\n",
       "<table border=\"1\" class=\"dataframe\">\n",
       "  <thead>\n",
       "    <tr style=\"text-align: right;\">\n",
       "      <th></th>\n",
       "      <th>0</th>\n",
       "      <th>1</th>\n",
       "    </tr>\n",
       "  </thead>\n",
       "  <tbody>\n",
       "    <tr>\n",
       "      <th>0</th>\n",
       "      <td>ALABAMA</td>\n",
       "      <td>AL</td>\n",
       "    </tr>\n",
       "    <tr>\n",
       "      <th>1</th>\n",
       "      <td>ALASKA</td>\n",
       "      <td>AK</td>\n",
       "    </tr>\n",
       "    <tr>\n",
       "      <th>2</th>\n",
       "      <td>ARIZONA</td>\n",
       "      <td>AZ</td>\n",
       "    </tr>\n",
       "    <tr>\n",
       "      <th>3</th>\n",
       "      <td>ARKANSAS</td>\n",
       "      <td>AR</td>\n",
       "    </tr>\n",
       "    <tr>\n",
       "      <th>4</th>\n",
       "      <td>CALIFORNIA</td>\n",
       "      <td>CA</td>\n",
       "    </tr>\n",
       "  </tbody>\n",
       "</table>\n",
       "</div>"
      ],
      "text/plain": [
       "            0   1\n",
       "0     ALABAMA  AL\n",
       "1      ALASKA  AK\n",
       "2     ARIZONA  AZ\n",
       "3    ARKANSAS  AR\n",
       "4  CALIFORNIA  CA"
      ]
     },
     "execution_count": 3,
     "metadata": {},
     "output_type": "execute_result"
    }
   ],
   "source": [
    "# Dependencies and Setup\n",
    "import matplotlib.pyplot as plt\n",
    "import pandas as pd\n",
    "import numpy as np\n",
    "import requests\n",
    "import json\n",
    "import csv\n",
    "\n",
    "from pprint import pprint\n",
    "\n",
    "# Import DATA.GOV API key\n",
    "from api_keys import ses_dg_key\n",
    "\n",
    "# Output File (CSV)\n",
    "output_data_file = \"output_data/fbi_crime_data_state.csv\"\n",
    "\n",
    "#States .csv file\n",
    "path = \"Resources/states.csv\"\n",
    "states_df = pd.read_csv(path, encoding='ISO-8859-1', header=None)\n",
    "states_df.head()"
   ]
  },
  {
   "cell_type": "code",
   "execution_count": null,
   "metadata": {},
   "outputs": [],
   "source": [
    "state_qry = https://api.usa.gov/crime/fbi/sapi/api/states?api_key=7OD5p7jAF2ktkNdz232bezpnha90B0d6He5RebsV\n",
    "state_results = requests.get(state_qry).json\n",
    "state_data = pd.DataFrame(state_results)\n"
   ]
  },
  {
   "cell_type": "code",
   "execution_count": null,
   "metadata": {},
   "outputs": [],
   "source": [
    "states = (states_df.iloc[:, 1]).astype(str)\n",
    "age_queries = []\n",
    "\n",
    "for i in states:\n",
    "    age_query_url = \"https://api.usa.gov/crime/fbi/sapi/api/data/nibrs/homicide/victim/states/\" + i + \"/age?api_key=\" + dg_key\n",
    "    age_queries.append(age_query_url)\n",
    "    #age_response_state = requests.get(age_query_url).json\n",
    "    \n",
    "age_queries\n",
    "\n"
   ]
  },
  {
   "cell_type": "code",
   "execution_count": 5,
   "metadata": {},
   "outputs": [
    {
     "data": {
      "text/html": [
       "<div>\n",
       "<style scoped>\n",
       "    .dataframe tbody tr th:only-of-type {\n",
       "        vertical-align: middle;\n",
       "    }\n",
       "\n",
       "    .dataframe tbody tr th {\n",
       "        vertical-align: top;\n",
       "    }\n",
       "\n",
       "    .dataframe thead th {\n",
       "        text-align: right;\n",
       "    }\n",
       "</style>\n",
       "<table border=\"1\" class=\"dataframe\">\n",
       "  <thead>\n",
       "    <tr style=\"text-align: right;\">\n",
       "      <th></th>\n",
       "      <th>0</th>\n",
       "    </tr>\n",
       "  </thead>\n",
       "  <tbody>\n",
       "    <tr>\n",
       "      <th>0</th>\n",
       "      <td>{'https://api.usa.gov/crime/fbi/sapi/api/data/...</td>\n",
       "    </tr>\n",
       "    <tr>\n",
       "      <th>1</th>\n",
       "      <td>{'https://api.usa.gov/crime/fbi/sapi/api/data/...</td>\n",
       "    </tr>\n",
       "    <tr>\n",
       "      <th>2</th>\n",
       "      <td>{'https://api.usa.gov/crime/fbi/sapi/api/data/...</td>\n",
       "    </tr>\n",
       "    <tr>\n",
       "      <th>3</th>\n",
       "      <td>{'https://api.usa.gov/crime/fbi/sapi/api/data/...</td>\n",
       "    </tr>\n",
       "    <tr>\n",
       "      <th>4</th>\n",
       "      <td>{'https://api.usa.gov/crime/fbi/sapi/api/data/...</td>\n",
       "    </tr>\n",
       "  </tbody>\n",
       "</table>\n",
       "</div>"
      ],
      "text/plain": [
       "                                                   0\n",
       "0  {'https://api.usa.gov/crime/fbi/sapi/api/data/...\n",
       "1  {'https://api.usa.gov/crime/fbi/sapi/api/data/...\n",
       "2  {'https://api.usa.gov/crime/fbi/sapi/api/data/...\n",
       "3  {'https://api.usa.gov/crime/fbi/sapi/api/data/...\n",
       "4  {'https://api.usa.gov/crime/fbi/sapi/api/data/..."
      ]
     },
     "execution_count": 5,
     "metadata": {},
     "output_type": "execute_result"
    }
   ],
   "source": [
    "\n",
    "age_results = []\n",
    "    \n",
    "for i in age_queries:\n",
    "    age_response = requests.get(i).json()\n",
    "    age_results.append([{i : age_response}])\n",
    "    \n",
    "age_results\n",
    "\n",
    "\n",
    "\n",
    "age_data = pd.DataFrame(age_results)\n",
    "#age_data.sort_values(by='data_year', ascending=False)\n",
    "\n",
    "age_data.head()"
   ]
  },
  {
   "cell_type": "code",
   "execution_count": null,
   "metadata": {},
   "outputs": [],
   "source": []
  }
 ],
 "metadata": {
  "kernelspec": {
   "display_name": "Python 3",
   "language": "python",
   "name": "python3"
  },
  "language_info": {
   "codemirror_mode": {
    "name": "ipython",
    "version": 3
   },
   "file_extension": ".py",
   "mimetype": "text/x-python",
   "name": "python",
   "nbconvert_exporter": "python",
   "pygments_lexer": "ipython3",
   "version": "3.7.3"
  }
 },
 "nbformat": 4,
 "nbformat_minor": 2
}
