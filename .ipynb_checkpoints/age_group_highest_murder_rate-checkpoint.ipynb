{
 "cells": [
  {
   "cell_type": "code",
   "execution_count": null,
   "metadata": {},
   "outputs": [],
   "source": [
    "# "
   ]
  },
  {
   "cell_type": "code",
   "execution_count": 29,
   "metadata": {},
   "outputs": [],
   "source": [
    "# Dependencies and Setup\n",
    "import matplotlib.pyplot as plt\n",
    "import pandas as pd\n",
    "import numpy as np\n",
    "import requests\n",
    "import json\n",
    "import csv\n",
    "import time\n",
    "\n",
    "from pprint import pprint\n",
    "\n",
    "# Import DATA.GOV API key\n",
    "from api_keys import ld_dg_key\n",
    "\n",
    "# Output File (CSV)\n",
    "output_data_file = \"output_data/fbi_crime_data.csv\"\n",
    "homicide_output_data_file = \"../homicide_mortality.csv\"\n",
    "\n"
   ]
  },
  {
   "cell_type": "code",
   "execution_count": 30,
   "metadata": {},
   "outputs": [],
   "source": [
    "homicide_output_data_file = \"../homicide_mortality.csv\""
   ]
  },
  {
   "cell_type": "code",
   "execution_count": null,
   "metadata": {},
   "outputs": [],
   "source": [
    "# State Abbreviations"
   ]
  },
  {
   "cell_type": "code",
   "execution_count": 13,
   "metadata": {},
   "outputs": [
    {
     "data": {
      "text/html": [
       "<div>\n",
       "<style scoped>\n",
       "    .dataframe tbody tr th:only-of-type {\n",
       "        vertical-align: middle;\n",
       "    }\n",
       "\n",
       "    .dataframe tbody tr th {\n",
       "        vertical-align: top;\n",
       "    }\n",
       "\n",
       "    .dataframe thead th {\n",
       "        text-align: right;\n",
       "    }\n",
       "</style>\n",
       "<table border=\"1\" class=\"dataframe\">\n",
       "  <thead>\n",
       "    <tr style=\"text-align: right;\">\n",
       "      <th></th>\n",
       "      <th>region_code</th>\n",
       "      <th>state_abbr</th>\n",
       "      <th>state_fips_code</th>\n",
       "      <th>state_id</th>\n",
       "      <th>state_name</th>\n",
       "    </tr>\n",
       "  </thead>\n",
       "  <tbody>\n",
       "    <tr>\n",
       "      <th>0</th>\n",
       "      <td>4</td>\n",
       "      <td>AK</td>\n",
       "      <td>2.0</td>\n",
       "      <td>1</td>\n",
       "      <td>Alaska</td>\n",
       "    </tr>\n",
       "    <tr>\n",
       "      <th>1</th>\n",
       "      <td>3</td>\n",
       "      <td>AL</td>\n",
       "      <td>1.0</td>\n",
       "      <td>2</td>\n",
       "      <td>Alabama</td>\n",
       "    </tr>\n",
       "    <tr>\n",
       "      <th>2</th>\n",
       "      <td>3</td>\n",
       "      <td>AR</td>\n",
       "      <td>5.0</td>\n",
       "      <td>3</td>\n",
       "      <td>Arkansas</td>\n",
       "    </tr>\n",
       "    <tr>\n",
       "      <th>3</th>\n",
       "      <td>99</td>\n",
       "      <td>AS</td>\n",
       "      <td>60.0</td>\n",
       "      <td>4</td>\n",
       "      <td>American Samoa</td>\n",
       "    </tr>\n",
       "    <tr>\n",
       "      <th>4</th>\n",
       "      <td>4</td>\n",
       "      <td>AZ</td>\n",
       "      <td>4.0</td>\n",
       "      <td>5</td>\n",
       "      <td>Arizona</td>\n",
       "    </tr>\n",
       "  </tbody>\n",
       "</table>\n",
       "</div>"
      ],
      "text/plain": [
       "   region_code state_abbr  state_fips_code  state_id      state_name\n",
       "0            4         AK              2.0         1          Alaska\n",
       "1            3         AL              1.0         2         Alabama\n",
       "2            3         AR              5.0         3        Arkansas\n",
       "3           99         AS             60.0         4  American Samoa\n",
       "4            4         AZ              4.0         5         Arizona"
      ]
     },
     "execution_count": 13,
     "metadata": {},
     "output_type": "execute_result"
    }
   ],
   "source": [
    "#Pull all pages for the data for each state \n",
    "state_qry =\"https://api.usa.gov/crime/fbi/sapi/api/states?api_key=\" + ld_dg_key\n",
    "state_results_1 = requests.get(state_qry, params={'page':0}).json()\n",
    "state_results_2 = requests.get(state_qry, params={'page':1}).json()\n",
    "state_results_3 = requests.get(state_qry, params={'page':2}).json()\n",
    "\n",
    " #Make DFs for each page of data\n",
    "sr1_df = pd.DataFrame(state_results_1['results'])\n",
    "sr2_df = pd.DataFrame(state_results_2['results'])\n",
    "sr3_df = pd.DataFrame(state_results_3['results'])\n",
    "\n",
    "# Setting up a sleep command.\n",
    "time.sleep(5)\n",
    "\n",
    "#Combine DFs of each page into one DF for all data\n",
    "state_data = pd.concat([sr1_df, sr2_df, sr3_df])\n",
    "\n",
    "state_data.head()"
   ]
  },
  {
   "cell_type": "code",
   "execution_count": 27,
   "metadata": {},
   "outputs": [
    {
     "ename": "NameError",
     "evalue": "name 'state' is not defined",
     "output_type": "error",
     "traceback": [
      "\u001b[1;31m---------------------------------------------------------------------------\u001b[0m",
      "\u001b[1;31mNameError\u001b[0m                                 Traceback (most recent call last)",
      "\u001b[1;32m<ipython-input-27-d2c833f24380>\u001b[0m in \u001b[0;36m<module>\u001b[1;34m\u001b[0m\n\u001b[1;32m----> 1\u001b[1;33m murder_state_df = pd.DataFrame(list(zip( state, rate)),\n\u001b[0m\u001b[0;32m      2\u001b[0m                                columns = [\n\u001b[0;32m      3\u001b[0m \u001b[1;33m\u001b[0m\u001b[0m\n\u001b[0;32m      4\u001b[0m                                    \u001b[1;34m\"state\"\u001b[0m\u001b[1;33m,\u001b[0m\u001b[1;33m\u001b[0m\u001b[1;33m\u001b[0m\u001b[0m\n\u001b[0;32m      5\u001b[0m                                    \"rate\"])\n",
      "\u001b[1;31mNameError\u001b[0m: name 'state' is not defined"
     ]
    }
   ],
   "source": [
    "\n",
    "                             "
   ]
  },
  {
   "cell_type": "code",
   "execution_count": 1,
   "metadata": {},
   "outputs": [
    {
     "ename": "NameError",
     "evalue": "name 'pd' is not defined",
     "output_type": "error",
     "traceback": [
      "\u001b[1;31m---------------------------------------------------------------------------\u001b[0m",
      "\u001b[1;31mNameError\u001b[0m                                 Traceback (most recent call last)",
      "\u001b[1;32m<ipython-input-1-9777362e832c>\u001b[0m in \u001b[0;36m<module>\u001b[1;34m\u001b[0m\n\u001b[0;32m      1\u001b[0m \u001b[1;31m#Age data looks pretty straightforward - count of victims by age, by year\u001b[0m\u001b[1;33m\u001b[0m\u001b[1;33m\u001b[0m\u001b[1;33m\u001b[0m\u001b[0m\n\u001b[0;32m      2\u001b[0m \u001b[1;33m\u001b[0m\u001b[0m\n\u001b[1;32m----> 3\u001b[1;33m \u001b[0mage_data\u001b[0m \u001b[1;33m=\u001b[0m \u001b[0mpd\u001b[0m\u001b[1;33m.\u001b[0m\u001b[0mDataFrame\u001b[0m\u001b[1;33m(\u001b[0m\u001b[0mage_response\u001b[0m\u001b[1;33m[\u001b[0m\u001b[1;34m'results'\u001b[0m\u001b[1;33m]\u001b[0m\u001b[1;33m)\u001b[0m\u001b[1;33m\u001b[0m\u001b[1;33m\u001b[0m\u001b[0m\n\u001b[0m\u001b[0;32m      4\u001b[0m \u001b[0mage_data\u001b[0m \u001b[1;33m=\u001b[0m \u001b[0mage_data\u001b[0m\u001b[1;33m.\u001b[0m\u001b[0msort_values\u001b[0m\u001b[1;33m(\u001b[0m\u001b[0mby\u001b[0m\u001b[1;33m=\u001b[0m\u001b[1;34m'data_year'\u001b[0m\u001b[1;33m,\u001b[0m \u001b[0mascending\u001b[0m\u001b[1;33m=\u001b[0m\u001b[1;32mFalse\u001b[0m\u001b[1;33m)\u001b[0m\u001b[1;33m\u001b[0m\u001b[1;33m\u001b[0m\u001b[0m\n\u001b[0;32m      5\u001b[0m \u001b[1;33m\u001b[0m\u001b[0m\n",
      "\u001b[1;31mNameError\u001b[0m: name 'pd' is not defined"
     ]
    }
   ],
   "source": [
    "#Age data looks pretty straightforward - count of victims by age, by year \n",
    "\n",
    "age_data = pd.DataFrame(age_response['results'])\n",
    "age_data = age_data.sort_values(by='data_year', ascending=False)\n",
    "\n",
    "age_data"
   ]
  },
  {
   "cell_type": "code",
   "execution_count": 10,
   "metadata": {},
   "outputs": [
    {
     "data": {
      "text/plain": [
       "{'results': [{'ori': 'LA0010000',\n",
       "   'data_year': 2010,\n",
       "   'offense': 'homicide',\n",
       "   'state_abbr': 'LA',\n",
       "   'cleared': 0,\n",
       "   'actual': 0},\n",
       "  {'ori': 'LA0010000',\n",
       "   'data_year': 2011,\n",
       "   'offense': 'homicide',\n",
       "   'state_abbr': 'LA',\n",
       "   'cleared': 0,\n",
       "   'actual': 0},\n",
       "  {'ori': 'LA0010000',\n",
       "   'data_year': 2012,\n",
       "   'offense': 'homicide',\n",
       "   'state_abbr': 'LA',\n",
       "   'cleared': 0,\n",
       "   'actual': 0},\n",
       "  {'ori': 'LA0010000',\n",
       "   'data_year': 2013,\n",
       "   'offense': 'homicide',\n",
       "   'state_abbr': 'LA',\n",
       "   'cleared': 1,\n",
       "   'actual': 2},\n",
       "  {'ori': 'LA0010000',\n",
       "   'data_year': 2014,\n",
       "   'offense': 'homicide',\n",
       "   'state_abbr': 'LA',\n",
       "   'cleared': 0,\n",
       "   'actual': 0},\n",
       "  {'ori': 'LA0010000',\n",
       "   'data_year': 2015,\n",
       "   'offense': 'homicide',\n",
       "   'state_abbr': 'LA',\n",
       "   'cleared': 0,\n",
       "   'actual': 1},\n",
       "  {'ori': 'LA0010000',\n",
       "   'data_year': 2016,\n",
       "   'offense': 'homicide',\n",
       "   'state_abbr': 'LA',\n",
       "   'cleared': 4,\n",
       "   'actual': 7},\n",
       "  {'ori': 'LA0010000',\n",
       "   'data_year': 2017,\n",
       "   'offense': 'homicide',\n",
       "   'state_abbr': 'LA',\n",
       "   'cleared': 0,\n",
       "   'actual': 0},\n",
       "  {'ori': 'LA0010100',\n",
       "   'data_year': 2010,\n",
       "   'offense': 'homicide',\n",
       "   'state_abbr': 'LA',\n",
       "   'cleared': 0,\n",
       "   'actual': 1},\n",
       "  {'ori': 'LA0010100',\n",
       "   'data_year': 2011,\n",
       "   'offense': 'homicide',\n",
       "   'state_abbr': 'LA',\n",
       "   'cleared': 2,\n",
       "   'actual': 3},\n",
       "  {'ori': 'LA0010100',\n",
       "   'data_year': 2012,\n",
       "   'offense': 'homicide',\n",
       "   'state_abbr': 'LA',\n",
       "   'cleared': 1,\n",
       "   'actual': 4},\n",
       "  {'ori': 'LA0010100',\n",
       "   'data_year': 2013,\n",
       "   'offense': 'homicide',\n",
       "   'state_abbr': 'LA',\n",
       "   'cleared': 0,\n",
       "   'actual': 0},\n",
       "  {'ori': 'LA0010100',\n",
       "   'data_year': 2014,\n",
       "   'offense': 'homicide',\n",
       "   'state_abbr': 'LA',\n",
       "   'cleared': 8,\n",
       "   'actual': 15},\n",
       "  {'ori': 'LA0010100',\n",
       "   'data_year': 2015,\n",
       "   'offense': 'homicide',\n",
       "   'state_abbr': 'LA',\n",
       "   'cleared': 2,\n",
       "   'actual': 5},\n",
       "  {'ori': 'LA0010100',\n",
       "   'data_year': 2016,\n",
       "   'offense': 'homicide',\n",
       "   'state_abbr': 'LA',\n",
       "   'cleared': 1,\n",
       "   'actual': 3},\n",
       "  {'ori': 'LA0010100',\n",
       "   'data_year': 2017,\n",
       "   'offense': 'homicide',\n",
       "   'state_abbr': 'LA',\n",
       "   'cleared': 1,\n",
       "   'actual': 3},\n",
       "  {'ori': 'LA0010200',\n",
       "   'data_year': 2010,\n",
       "   'offense': 'homicide',\n",
       "   'state_abbr': 'LA',\n",
       "   'cleared': 0,\n",
       "   'actual': 0},\n",
       "  {'ori': 'LA0010200',\n",
       "   'data_year': 2011,\n",
       "   'offense': 'homicide',\n",
       "   'state_abbr': 'LA',\n",
       "   'cleared': 0,\n",
       "   'actual': 0},\n",
       "  {'ori': 'LA0010200',\n",
       "   'data_year': 2012,\n",
       "   'offense': 'homicide',\n",
       "   'state_abbr': 'LA',\n",
       "   'cleared': 0,\n",
       "   'actual': 0},\n",
       "  {'ori': 'LA0010200',\n",
       "   'data_year': 2013,\n",
       "   'offense': 'homicide',\n",
       "   'state_abbr': 'LA',\n",
       "   'cleared': 0,\n",
       "   'actual': 1}],\n",
       " 'pagination': {'count': 1767, 'page': 0, 'pages': 89, 'per_page': 20}}"
      ]
     },
     "execution_count": 10,
     "metadata": {},
     "output_type": "execute_result"
    }
   ],
   "source": [
    "test_query = \"https://api.usa.gov/crime/fbi/sapi/api/summarized/state/LA/homicide/2010/2017?api_key=\" + ld_dg_key\n",
    "\n",
    "test_response = requests.get(test_query).json()\n",
    "test_response"
   ]
  },
  {
   "cell_type": "code",
   "execution_count": null,
   "metadata": {},
   "outputs": [],
   "source": [
    "#API Call to National-level offender-data-controller for homicide only \n",
    "# \n",
    "#FORMAT:  https://api.usa.gov/crime/fbi/sapi/api/data/nibrs/homicide/offender/national/{variable}?api_key=\n",
    "\n",
    "age_query_url = \"https://api.usa.gov/crime/fbi/sapi/api/data/nibrs/homicide/offender/national/age?api_key=\" + dg_key\n",
    "count_query_url = \"https://api.usa.gov/crime/fbi/sapi/api/data/nibrs/homicide/offender/national/count?api_key=\" + dg_key\n",
    "ethnicity_query_url = \"https://api.usa.gov/crime/fbi/sapi/api/data/nibrs/homicide/offender/national/ethnicity?api_key=\" + dg_key\n",
    "sex_query_url = \"https://api.usa.gov/crime/fbi/sapi/api/data/nibrs/homicide/offender/national/sex?api_key=\" + dg_key\n",
    "race_query_url = \"https://api.usa.gov/crime/fbi/sapi/api/data/nibrs/homicide/offender/national/race?api_key=\" + dg_key\n",
    "\n",
    "\n",
    "OFF_age_response = requests.get(age_query_url).json()\n",
    "OFF_count_response = requests.get(count_query_url).json()  \n",
    "OFF_ethnicity_response = requests.get(ethnicity_query_url).json()\n",
    "OFF_sex_response = requests.get(sex_query_url).json()\n",
    "OFF_race_response = requests.get(race_query_url).json()"
   ]
  },
  {
   "cell_type": "code",
   "execution_count": null,
   "metadata": {},
   "outputs": [],
   "source": [
    "pprint(relationship_response)"
   ]
  },
  {
   "cell_type": "code",
   "execution_count": null,
   "metadata": {},
   "outputs": [],
   "source": [
    "#Age data looks pretty straightforward - count of victims by age, by year \n",
    "\n",
    "age_data = pd.DataFrame(age_response['results'])\n",
    "age_data = age_data.sort_values(by='data_year', ascending=False)\n",
    "\n",
    "age_data"
   ]
  }
 ],
 "metadata": {
  "kernelspec": {
   "display_name": "Python 3",
   "language": "python",
   "name": "python3"
  },
  "language_info": {
   "codemirror_mode": {
    "name": "ipython",
    "version": 3
   },
   "file_extension": ".py",
   "mimetype": "text/x-python",
   "name": "python",
   "nbconvert_exporter": "python",
   "pygments_lexer": "ipython3",
   "version": "3.7.3"
  }
 },
 "nbformat": 4,
 "nbformat_minor": 2
}
